{
  "nbformat": 4,
  "nbformat_minor": 0,
  "metadata": {
    "colab": {
      "provenance": []
    },
    "kernelspec": {
      "name": "python3",
      "display_name": "Python 3"
    },
    "language_info": {
      "name": "python"
    }
  },
  "cells": [
    {
      "cell_type": "code",
      "execution_count": null,
      "metadata": {
        "id": "BVb4J3cuQXQJ"
      },
      "outputs": [],
      "source": [
        "import csv\n",
        "import pandas as pd\n",
        "import numpy as np\n",
        "import matplotlib as mpl\n",
        "import json"
      ]
    },
    {
      "cell_type": "code",
      "source": [
        "df = pd.read_csv('to_use.csv')"
      ],
      "metadata": {
        "id": "Xx54-bxxW610"
      },
      "execution_count": null,
      "outputs": []
    },
    {
      "cell_type": "markdown",
      "source": [
        "https://www.aflowlib.org/API/aflux/?Egap(*),Egap_type(*),spinD(*),spin_atom(*),ael_debye_temperature(*),agl_heat_capacity_Cp_300K(*),agl_thermal_conductivity_300K(*),agl_thermal_expansion_300K(*),enthalpy_atom(*),Bravais_lattice_lattice_type(*),positions_fractional(*),geometry(*),density(*),Wyckoff_letters(*),Wyckoff_multiplicities(*),Wyckoff_site_symmetries(*),stoichiometry(*),valence_cell_iupac(*),kpoints_static(*),dft_type(*),energy_cutoff(*),ldau_j(*),ldau_l(*),ldau_type(*),ldau_u(*),species_pp_ZVAL(*),$paging(1,4273)"
      ],
      "metadata": {
        "id": "QwUGftZJ_2gp"
      }
    },
    {
      "cell_type": "code",
      "source": [
        "df.head()"
      ],
      "metadata": {
        "colab": {
          "base_uri": "https://localhost:8080/",
          "height": 542
        },
        "id": "RTPBFUTaX5ey",
        "outputId": "87119a3a-46c7-41c7-f21b-76d27b7b0adb"
      },
      "execution_count": null,
      "outputs": [
        {
          "output_type": "execute_result",
          "data": {
            "text/plain": [
              "     compound                    auid  \\\n",
              "0   Ge1Ni2Zn1  aflow:00cdc20a7cbc8937   \n",
              "1  La6Ru8Sn26  aflow:009ca3e52fd070b4   \n",
              "2   Ga1Pd2Sc1  aflow:004419866f33d7b2   \n",
              "3      As4Co2  aflow:00d4123713eaf16f   \n",
              "4   Cu4Ni1Yb1  aflow:00d5318ea4c2f57d   \n",
              "\n",
              "                                                aurl  spacegroup_relax  \\\n",
              "0  aflowlib.duke.edu:AFLOWDATA/ICSD_WEB/FCC/Ge1Ni...               225   \n",
              "1  aflowlib.duke.edu:AFLOWDATA/ICSD_WEB/CUB/La3Ru...               223   \n",
              "2  aflowlib.duke.edu:AFLOWDATA/ICSD_WEB/FCC/Ga1Pd...               225   \n",
              "3  aflowlib.duke.edu:AFLOWDATA/ICSD_WEB/ORC/As2Co...                58   \n",
              "4  aflowlib.duke.edu:AFLOWDATA/ICSD_WEB/FCC/Cu4Ni...               216   \n",
              "\n",
              "  Pearson_symbol_relax  Egap Egap_type  \\\n",
              "0                 cF16   0.0     metal   \n",
              "1                 cP40   0.0     metal   \n",
              "2                 cF16   0.0     metal   \n",
              "3                  oP6   0.0     metal   \n",
              "4                 cF24   0.0     metal   \n",
              "\n",
              "                                               spinD  spin_atom  \\\n",
              "0                                       [0, 0, 0, 0]        0.0   \n",
              "1  [0, 0, 0, 0, 0, 0, 0, 0, 0, 0, 0, 0, 0, 0, 0, ...        0.0   \n",
              "2                                       [0, 0, 0, 0]        0.0   \n",
              "3                                 [0, 0, 0, 0, 0, 0]        0.0   \n",
              "4                                 [0, 0, 0, 0, 0, 0]        0.0   \n",
              "\n",
              "   ael_debye_temperature  ...                            stoichiometry  \\\n",
              "0                312.886  ...                        [0.25, 0.5, 0.25]   \n",
              "1                223.659  ...                        [0.15, 0.2, 0.65]   \n",
              "2                246.964  ...                        [0.25, 0.5, 0.25]   \n",
              "3                447.824  ...               [0.666666667, 0.333333333]   \n",
              "4                266.504  ...  [0.666666667, 0.166666667, 0.166666667]   \n",
              "\n",
              "   valence_cell_iupac  kpoints_static     dft_type energy_cutoff       ldau_j  \\\n",
              "0                  14    [14, 14, 14]  ['PAW_PBE']         574.6    [0, 0, 0]   \n",
              "1                 186       [7, 7, 7]  ['PAW_PBE']         322.6  [0.6, 0, 0]   \n",
              "2                  14    [14, 14, 14]  ['PAW_PBE']         566.4    [0, 0, 0]   \n",
              "3                  30     [19, 11, 9]  ['PAW_PBE']         375.2       [0, 0]   \n",
              "4                  23    [12, 12, 12]  ['PAW_PBE']         516.0  [0, 0, 0.7]   \n",
              "\n",
              "      ldau_l  ldau_type           ldau_u species_pp_ZVAL  \n",
              "0  [0, 2, 2]          2    [0, 5.1, 7.5]    [14, 16, 12]  \n",
              "1  [3, 2, 2]          2    [8.1, 3, 3.5]     [11, 14, 4]  \n",
              "2  [2, 2, 2]          2  [3.9, 3.6, 2.9]    [13, 16, 11]  \n",
              "3     [0, 2]          2           [0, 5]          [5, 9]  \n",
              "4  [2, 2, 3]          2      [4, 5.1, 7]    [17, 16, 24]  \n",
              "\n",
              "[5 rows x 31 columns]"
            ],
            "text/html": [
              "\n",
              "  <div id=\"df-42f41674-6eb4-42f4-90f4-4f535fef4fd8\">\n",
              "    <div class=\"colab-df-container\">\n",
              "      <div>\n",
              "<style scoped>\n",
              "    .dataframe tbody tr th:only-of-type {\n",
              "        vertical-align: middle;\n",
              "    }\n",
              "\n",
              "    .dataframe tbody tr th {\n",
              "        vertical-align: top;\n",
              "    }\n",
              "\n",
              "    .dataframe thead th {\n",
              "        text-align: right;\n",
              "    }\n",
              "</style>\n",
              "<table border=\"1\" class=\"dataframe\">\n",
              "  <thead>\n",
              "    <tr style=\"text-align: right;\">\n",
              "      <th></th>\n",
              "      <th>compound</th>\n",
              "      <th>auid</th>\n",
              "      <th>aurl</th>\n",
              "      <th>spacegroup_relax</th>\n",
              "      <th>Pearson_symbol_relax</th>\n",
              "      <th>Egap</th>\n",
              "      <th>Egap_type</th>\n",
              "      <th>spinD</th>\n",
              "      <th>spin_atom</th>\n",
              "      <th>ael_debye_temperature</th>\n",
              "      <th>...</th>\n",
              "      <th>stoichiometry</th>\n",
              "      <th>valence_cell_iupac</th>\n",
              "      <th>kpoints_static</th>\n",
              "      <th>dft_type</th>\n",
              "      <th>energy_cutoff</th>\n",
              "      <th>ldau_j</th>\n",
              "      <th>ldau_l</th>\n",
              "      <th>ldau_type</th>\n",
              "      <th>ldau_u</th>\n",
              "      <th>species_pp_ZVAL</th>\n",
              "    </tr>\n",
              "  </thead>\n",
              "  <tbody>\n",
              "    <tr>\n",
              "      <th>0</th>\n",
              "      <td>Ge1Ni2Zn1</td>\n",
              "      <td>aflow:00cdc20a7cbc8937</td>\n",
              "      <td>aflowlib.duke.edu:AFLOWDATA/ICSD_WEB/FCC/Ge1Ni...</td>\n",
              "      <td>225</td>\n",
              "      <td>cF16</td>\n",
              "      <td>0.0</td>\n",
              "      <td>metal</td>\n",
              "      <td>[0, 0, 0, 0]</td>\n",
              "      <td>0.0</td>\n",
              "      <td>312.886</td>\n",
              "      <td>...</td>\n",
              "      <td>[0.25, 0.5, 0.25]</td>\n",
              "      <td>14</td>\n",
              "      <td>[14, 14, 14]</td>\n",
              "      <td>['PAW_PBE']</td>\n",
              "      <td>574.6</td>\n",
              "      <td>[0, 0, 0]</td>\n",
              "      <td>[0, 2, 2]</td>\n",
              "      <td>2</td>\n",
              "      <td>[0, 5.1, 7.5]</td>\n",
              "      <td>[14, 16, 12]</td>\n",
              "    </tr>\n",
              "    <tr>\n",
              "      <th>1</th>\n",
              "      <td>La6Ru8Sn26</td>\n",
              "      <td>aflow:009ca3e52fd070b4</td>\n",
              "      <td>aflowlib.duke.edu:AFLOWDATA/ICSD_WEB/CUB/La3Ru...</td>\n",
              "      <td>223</td>\n",
              "      <td>cP40</td>\n",
              "      <td>0.0</td>\n",
              "      <td>metal</td>\n",
              "      <td>[0, 0, 0, 0, 0, 0, 0, 0, 0, 0, 0, 0, 0, 0, 0, ...</td>\n",
              "      <td>0.0</td>\n",
              "      <td>223.659</td>\n",
              "      <td>...</td>\n",
              "      <td>[0.15, 0.2, 0.65]</td>\n",
              "      <td>186</td>\n",
              "      <td>[7, 7, 7]</td>\n",
              "      <td>['PAW_PBE']</td>\n",
              "      <td>322.6</td>\n",
              "      <td>[0.6, 0, 0]</td>\n",
              "      <td>[3, 2, 2]</td>\n",
              "      <td>2</td>\n",
              "      <td>[8.1, 3, 3.5]</td>\n",
              "      <td>[11, 14, 4]</td>\n",
              "    </tr>\n",
              "    <tr>\n",
              "      <th>2</th>\n",
              "      <td>Ga1Pd2Sc1</td>\n",
              "      <td>aflow:004419866f33d7b2</td>\n",
              "      <td>aflowlib.duke.edu:AFLOWDATA/ICSD_WEB/FCC/Ga1Pd...</td>\n",
              "      <td>225</td>\n",
              "      <td>cF16</td>\n",
              "      <td>0.0</td>\n",
              "      <td>metal</td>\n",
              "      <td>[0, 0, 0, 0]</td>\n",
              "      <td>0.0</td>\n",
              "      <td>246.964</td>\n",
              "      <td>...</td>\n",
              "      <td>[0.25, 0.5, 0.25]</td>\n",
              "      <td>14</td>\n",
              "      <td>[14, 14, 14]</td>\n",
              "      <td>['PAW_PBE']</td>\n",
              "      <td>566.4</td>\n",
              "      <td>[0, 0, 0]</td>\n",
              "      <td>[2, 2, 2]</td>\n",
              "      <td>2</td>\n",
              "      <td>[3.9, 3.6, 2.9]</td>\n",
              "      <td>[13, 16, 11]</td>\n",
              "    </tr>\n",
              "    <tr>\n",
              "      <th>3</th>\n",
              "      <td>As4Co2</td>\n",
              "      <td>aflow:00d4123713eaf16f</td>\n",
              "      <td>aflowlib.duke.edu:AFLOWDATA/ICSD_WEB/ORC/As2Co...</td>\n",
              "      <td>58</td>\n",
              "      <td>oP6</td>\n",
              "      <td>0.0</td>\n",
              "      <td>metal</td>\n",
              "      <td>[0, 0, 0, 0, 0, 0]</td>\n",
              "      <td>0.0</td>\n",
              "      <td>447.824</td>\n",
              "      <td>...</td>\n",
              "      <td>[0.666666667, 0.333333333]</td>\n",
              "      <td>30</td>\n",
              "      <td>[19, 11, 9]</td>\n",
              "      <td>['PAW_PBE']</td>\n",
              "      <td>375.2</td>\n",
              "      <td>[0, 0]</td>\n",
              "      <td>[0, 2]</td>\n",
              "      <td>2</td>\n",
              "      <td>[0, 5]</td>\n",
              "      <td>[5, 9]</td>\n",
              "    </tr>\n",
              "    <tr>\n",
              "      <th>4</th>\n",
              "      <td>Cu4Ni1Yb1</td>\n",
              "      <td>aflow:00d5318ea4c2f57d</td>\n",
              "      <td>aflowlib.duke.edu:AFLOWDATA/ICSD_WEB/FCC/Cu4Ni...</td>\n",
              "      <td>216</td>\n",
              "      <td>cF24</td>\n",
              "      <td>0.0</td>\n",
              "      <td>metal</td>\n",
              "      <td>[0, 0, 0, 0, 0, 0]</td>\n",
              "      <td>0.0</td>\n",
              "      <td>266.504</td>\n",
              "      <td>...</td>\n",
              "      <td>[0.666666667, 0.166666667, 0.166666667]</td>\n",
              "      <td>23</td>\n",
              "      <td>[12, 12, 12]</td>\n",
              "      <td>['PAW_PBE']</td>\n",
              "      <td>516.0</td>\n",
              "      <td>[0, 0, 0.7]</td>\n",
              "      <td>[2, 2, 3]</td>\n",
              "      <td>2</td>\n",
              "      <td>[4, 5.1, 7]</td>\n",
              "      <td>[17, 16, 24]</td>\n",
              "    </tr>\n",
              "  </tbody>\n",
              "</table>\n",
              "<p>5 rows × 31 columns</p>\n",
              "</div>\n",
              "      <button class=\"colab-df-convert\" onclick=\"convertToInteractive('df-42f41674-6eb4-42f4-90f4-4f535fef4fd8')\"\n",
              "              title=\"Convert this dataframe to an interactive table.\"\n",
              "              style=\"display:none;\">\n",
              "        \n",
              "  <svg xmlns=\"http://www.w3.org/2000/svg\" height=\"24px\"viewBox=\"0 0 24 24\"\n",
              "       width=\"24px\">\n",
              "    <path d=\"M0 0h24v24H0V0z\" fill=\"none\"/>\n",
              "    <path d=\"M18.56 5.44l.94 2.06.94-2.06 2.06-.94-2.06-.94-.94-2.06-.94 2.06-2.06.94zm-11 1L8.5 8.5l.94-2.06 2.06-.94-2.06-.94L8.5 2.5l-.94 2.06-2.06.94zm10 10l.94 2.06.94-2.06 2.06-.94-2.06-.94-.94-2.06-.94 2.06-2.06.94z\"/><path d=\"M17.41 7.96l-1.37-1.37c-.4-.4-.92-.59-1.43-.59-.52 0-1.04.2-1.43.59L10.3 9.45l-7.72 7.72c-.78.78-.78 2.05 0 2.83L4 21.41c.39.39.9.59 1.41.59.51 0 1.02-.2 1.41-.59l7.78-7.78 2.81-2.81c.8-.78.8-2.07 0-2.86zM5.41 20L4 18.59l7.72-7.72 1.47 1.35L5.41 20z\"/>\n",
              "  </svg>\n",
              "      </button>\n",
              "      \n",
              "  <style>\n",
              "    .colab-df-container {\n",
              "      display:flex;\n",
              "      flex-wrap:wrap;\n",
              "      gap: 12px;\n",
              "    }\n",
              "\n",
              "    .colab-df-convert {\n",
              "      background-color: #E8F0FE;\n",
              "      border: none;\n",
              "      border-radius: 50%;\n",
              "      cursor: pointer;\n",
              "      display: none;\n",
              "      fill: #1967D2;\n",
              "      height: 32px;\n",
              "      padding: 0 0 0 0;\n",
              "      width: 32px;\n",
              "    }\n",
              "\n",
              "    .colab-df-convert:hover {\n",
              "      background-color: #E2EBFA;\n",
              "      box-shadow: 0px 1px 2px rgba(60, 64, 67, 0.3), 0px 1px 3px 1px rgba(60, 64, 67, 0.15);\n",
              "      fill: #174EA6;\n",
              "    }\n",
              "\n",
              "    [theme=dark] .colab-df-convert {\n",
              "      background-color: #3B4455;\n",
              "      fill: #D2E3FC;\n",
              "    }\n",
              "\n",
              "    [theme=dark] .colab-df-convert:hover {\n",
              "      background-color: #434B5C;\n",
              "      box-shadow: 0px 1px 3px 1px rgba(0, 0, 0, 0.15);\n",
              "      filter: drop-shadow(0px 1px 2px rgba(0, 0, 0, 0.3));\n",
              "      fill: #FFFFFF;\n",
              "    }\n",
              "  </style>\n",
              "\n",
              "      <script>\n",
              "        const buttonEl =\n",
              "          document.querySelector('#df-42f41674-6eb4-42f4-90f4-4f535fef4fd8 button.colab-df-convert');\n",
              "        buttonEl.style.display =\n",
              "          google.colab.kernel.accessAllowed ? 'block' : 'none';\n",
              "\n",
              "        async function convertToInteractive(key) {\n",
              "          const element = document.querySelector('#df-42f41674-6eb4-42f4-90f4-4f535fef4fd8');\n",
              "          const dataTable =\n",
              "            await google.colab.kernel.invokeFunction('convertToInteractive',\n",
              "                                                     [key], {});\n",
              "          if (!dataTable) return;\n",
              "\n",
              "          const docLinkHtml = 'Like what you see? Visit the ' +\n",
              "            '<a target=\"_blank\" href=https://colab.research.google.com/notebooks/data_table.ipynb>data table notebook</a>'\n",
              "            + ' to learn more about interactive tables.';\n",
              "          element.innerHTML = '';\n",
              "          dataTable['output_type'] = 'display_data';\n",
              "          await google.colab.output.renderOutput(dataTable, element);\n",
              "          const docLink = document.createElement('div');\n",
              "          docLink.innerHTML = docLinkHtml;\n",
              "          element.appendChild(docLink);\n",
              "        }\n",
              "      </script>\n",
              "    </div>\n",
              "  </div>\n",
              "  "
            ]
          },
          "metadata": {},
          "execution_count": 3
        }
      ]
    },
    {
      "cell_type": "code",
      "source": [
        "df = df.drop(['auid','aurl'],axis=1)"
      ],
      "metadata": {
        "id": "ZpDvgmrdY9rq"
      },
      "execution_count": null,
      "outputs": []
    },
    {
      "cell_type": "code",
      "source": [
        "df.info()\n",
        "df= df.drop(['Pearson_symbol_relax'], axis=1)"
      ],
      "metadata": {
        "colab": {
          "base_uri": "https://localhost:8080/"
        },
        "outputId": "9682fe14-512f-4107-be73-a3b14a4c9da4",
        "id": "qZH1g7vR9Ibl"
      },
      "execution_count": null,
      "outputs": [
        {
          "output_type": "stream",
          "name": "stdout",
          "text": [
            "<class 'pandas.core.frame.DataFrame'>\n",
            "RangeIndex: 4273 entries, 0 to 4272\n",
            "Data columns (total 29 columns):\n",
            " #   Column                         Non-Null Count  Dtype  \n",
            "---  ------                         --------------  -----  \n",
            " 0   compound                       4273 non-null   object \n",
            " 1   spacegroup_relax               4273 non-null   int64  \n",
            " 2   Pearson_symbol_relax           4273 non-null   object \n",
            " 3   Egap                           4273 non-null   float64\n",
            " 4   Egap_type                      4273 non-null   object \n",
            " 5   spinD                          4273 non-null   object \n",
            " 6   spin_atom                      4273 non-null   float64\n",
            " 7   ael_debye_temperature          4273 non-null   float64\n",
            " 8   agl_heat_capacity_Cp_300K      4273 non-null   float64\n",
            " 9   agl_thermal_conductivity_300K  4273 non-null   float64\n",
            " 10  agl_thermal_expansion_300K     4273 non-null   float64\n",
            " 11  enthalpy_atom                  4273 non-null   float64\n",
            " 12  Bravais_lattice_lattice_type   4273 non-null   object \n",
            " 13  positions_fractional           4273 non-null   object \n",
            " 14  geometry                       4273 non-null   object \n",
            " 15  density                        4273 non-null   float64\n",
            " 16  Wyckoff_letters                4273 non-null   object \n",
            " 17  Wyckoff_multiplicities         4273 non-null   object \n",
            " 18  Wyckoff_site_symmetries        4273 non-null   object \n",
            " 19  stoichiometry                  4273 non-null   object \n",
            " 20  valence_cell_iupac             4273 non-null   int64  \n",
            " 21  kpoints_static                 4273 non-null   object \n",
            " 22  dft_type                       4273 non-null   object \n",
            " 23  energy_cutoff                  4273 non-null   float64\n",
            " 24  ldau_j                         4273 non-null   object \n",
            " 25  ldau_l                         4273 non-null   object \n",
            " 26  ldau_type                      4273 non-null   int64  \n",
            " 27  ldau_u                         4273 non-null   object \n",
            " 28  species_pp_ZVAL                4273 non-null   object \n",
            "dtypes: float64(9), int64(3), object(17)\n",
            "memory usage: 968.2+ KB\n"
          ]
        }
      ]
    },
    {
      "cell_type": "code",
      "source": [],
      "metadata": {
        "id": "2zhznqWeri7f"
      },
      "execution_count": null,
      "outputs": []
    },
    {
      "cell_type": "code",
      "source": [
        "!pip install spglib"
      ],
      "metadata": {
        "id": "7dFdSsf19PLp",
        "colab": {
          "base_uri": "https://localhost:8080/"
        },
        "outputId": "bf42a1e1-0ac8-4306-e49f-4d28b2157e17"
      },
      "execution_count": null,
      "outputs": [
        {
          "output_type": "stream",
          "name": "stdout",
          "text": [
            "Looking in indexes: https://pypi.org/simple, https://us-python.pkg.dev/colab-wheels/public/simple/\n",
            "Collecting spglib\n",
            "  Downloading spglib-2.0.2-cp38-cp38-manylinux_2_17_x86_64.manylinux2014_x86_64.whl (515 kB)\n",
            "\u001b[K     |████████████████████████████████| 515 kB 27.2 MB/s \n",
            "\u001b[?25hRequirement already satisfied: numpy in /usr/local/lib/python3.8/dist-packages (from spglib) (1.21.6)\n",
            "Installing collected packages: spglib\n",
            "Successfully installed spglib-2.0.2\n"
          ]
        }
      ]
    },
    {
      "cell_type": "code",
      "source": [
        "!pip install PyAstronomy"
      ],
      "metadata": {
        "id": "ooU1Yxd5mq8U",
        "outputId": "4bb26587-ed27-4ff7-bec7-62f7ed2baf6b",
        "colab": {
          "base_uri": "https://localhost:8080/"
        }
      },
      "execution_count": null,
      "outputs": [
        {
          "output_type": "stream",
          "name": "stdout",
          "text": [
            "Looking in indexes: https://pypi.org/simple, https://us-python.pkg.dev/colab-wheels/public/simple/\n",
            "Collecting PyAstronomy\n",
            "  Downloading PyAstronomy-0.18.0.tar.gz (736 kB)\n",
            "\u001b[K     |████████████████████████████████| 736 kB 35.4 MB/s \n",
            "\u001b[?25hRequirement already satisfied: numpy in /usr/local/lib/python3.8/dist-packages (from PyAstronomy) (1.21.6)\n",
            "Requirement already satisfied: six in /usr/local/lib/python3.8/dist-packages (from PyAstronomy) (1.15.0)\n",
            "Requirement already satisfied: scipy in /usr/local/lib/python3.8/dist-packages (from PyAstronomy) (1.7.3)\n",
            "Collecting quantities\n",
            "  Downloading quantities-0.13.0.tar.gz (85 kB)\n",
            "\u001b[K     |████████████████████████████████| 85 kB 6.3 MB/s \n",
            "\u001b[?25hCollecting bidict\n",
            "  Downloading bidict-0.22.1-py3-none-any.whl (35 kB)\n",
            "Building wheels for collected packages: PyAstronomy, quantities\n",
            "  Building wheel for PyAstronomy (setup.py) ... \u001b[?25l\u001b[?25hdone\n",
            "  Created wheel for PyAstronomy: filename=PyAstronomy-0.18.0-py3-none-any.whl size=513057 sha256=ec4a320b4c71ae0838b162cc4e387a64135f8d7e11c053de55574fc672cd1c1c\n",
            "  Stored in directory: /root/.cache/pip/wheels/c6/43/19/0241fc91fb558eb03995faf20632712771bc739ce04d8bc2fd\n",
            "  Building wheel for quantities (setup.py) ... \u001b[?25l\u001b[?25hdone\n",
            "  Created wheel for quantities: filename=quantities-0.13.0-py3-none-any.whl size=77860 sha256=c8c971b15b3745bede7c13ec4d9070b6965d229064a720d2912a453686223e52\n",
            "  Stored in directory: /root/.cache/pip/wheels/a2/54/36/12af6e58a292a912f4bcd62d146d593fadcd414a258a970cf2\n",
            "Successfully built PyAstronomy quantities\n",
            "Installing collected packages: quantities, bidict, PyAstronomy\n",
            "Successfully installed PyAstronomy-0.18.0 bidict-0.22.1 quantities-0.13.0\n"
          ]
        }
      ]
    },
    {
      "cell_type": "code",
      "source": [
        "from __future__ import print_function, division\n",
        "from PyAstronomy import pyasl\n"
      ],
      "metadata": {
        "id": "dVarrCsLnQFP"
      },
      "execution_count": null,
      "outputs": []
    },
    {
      "cell_type": "code",
      "source": [
        "an = pyasl.AtomicNo()\n",
        "sym_dict = {}\n",
        "for i in range(1,119):\n",
        "    sym_dict[an.getElSymbol(i)] = i\n"
      ],
      "metadata": {
        "id": "pJWGwMIqpK_s"
      },
      "execution_count": null,
      "outputs": []
    },
    {
      "cell_type": "code",
      "source": [
        "print(sym_dict)"
      ],
      "metadata": {
        "id": "Hr0zV4_mqa6u",
        "outputId": "b0815cb2-4d39-45fe-ec4c-07ce5ea63b3d",
        "colab": {
          "base_uri": "https://localhost:8080/"
        }
      },
      "execution_count": null,
      "outputs": [
        {
          "output_type": "stream",
          "name": "stdout",
          "text": [
            "{'H': 1, 'He': 2, 'Li': 3, 'Be': 4, 'B': 5, 'C': 6, 'N': 7, 'O': 8, 'F': 9, 'Ne': 10, 'Na': 11, 'Mg': 12, 'Al': 13, 'Si': 14, 'P': 15, 'S': 16, 'Cl': 17, 'Ar': 18, 'K': 19, 'Ca': 20, 'Sc': 21, 'Ti': 22, 'V': 23, 'Cr': 24, 'Mn': 25, 'Fe': 26, 'Co': 27, 'Ni': 28, 'Cu': 29, 'Zn': 30, 'Ga': 31, 'Ge': 32, 'As': 33, 'Se': 34, 'Br': 35, 'Kr': 36, 'Rb': 37, 'Sr': 38, 'Y': 39, 'Zr': 40, 'Nb': 41, 'Mo': 42, 'Tc': 43, 'Ru': 44, 'Rh': 45, 'Pd': 46, 'Ag': 47, 'Cd': 48, 'In': 49, 'Sn': 50, 'Sb': 51, 'Te': 52, 'I': 53, 'Xe': 54, 'Cs': 55, 'Ba': 56, 'La': 57, 'Ce': 58, 'Pr': 59, 'Nd': 60, 'Pm': 61, 'Sm': 62, 'Eu': 63, 'Gd': 64, 'Tb': 65, 'Dy': 66, 'Ho': 67, 'Er': 68, 'Tm': 69, 'Yb': 70, 'Lu': 71, 'Hf': 72, 'Ta': 73, 'W': 74, 'Re': 75, 'Os': 76, 'Ir': 77, 'Pt': 78, 'Au': 79, 'Hg': 80, 'Tl': 81, 'Pb': 82, 'Bi': 83, 'Po': 84, 'At': 85, 'Rn': 86, 'Fr': 87, 'Ra': 88, 'Ac': 89, 'Th': 90, 'Pa': 91, 'U': 92, 'Np': 93, 'Pu': 94, 'Am': 95, 'Cm': 96, 'Bk': 97, 'Cf': 98, 'Es': 99, 'Fm': 100, 'Md': 101, 'No': 102, 'Lr': 103, 'Rf': 104, 'Db': 105, 'Sg': 106, 'Bh': 107, 'Hs': 108, 'Mt': 109, 'Ds': 110, 'Rg': 111, 'Cp': 112, 'Uut': 113, 'Uuq': 114, 'Uup': 115, 'Uuh': 116, 'Uus': 117, 'Uuo': 118}\n"
          ]
        }
      ]
    },
    {
      "cell_type": "code",
      "source": [
        "import re"
      ],
      "metadata": {
        "id": "YEZUzZCWsU9_"
      },
      "execution_count": null,
      "outputs": []
    },
    {
      "cell_type": "code",
      "source": [
        "name= 'La6Ru8Sn26'\n",
        "sum=0\n",
        "new= re.findall('[A-Z][a-z]?|[0-9]+', name)\n",
        "for i in range(0,len(new),2):\n",
        "  sum+= (sym_dict.get(new[i]))*int(new[i+1])\n",
        "print(sum)"
      ],
      "metadata": {
        "colab": {
          "base_uri": "https://localhost:8080/"
        },
        "id": "XUVp2qZeroru",
        "outputId": "2f5621c4-d8b9-451b-d80a-e69f6f0bc42b"
      },
      "execution_count": null,
      "outputs": [
        {
          "output_type": "stream",
          "name": "stdout",
          "text": [
            "1994\n"
          ]
        }
      ]
    },
    {
      "cell_type": "code",
      "source": [
        "def atom(name):\n",
        "  sum = 0\n",
        "  new= re.findall('[A-Z][a-z]?|[0-9]+', name)\n",
        "  for i in range(0,len(new),2):\n",
        "    sum+= (sym_dict.get(new[i]))*int(new[i+1])\n",
        "  return sum\n",
        "\n",
        "col = []\n",
        "for i in range(0, 4273):\n",
        "  val = atom(df.at[i, 'compound'])\n",
        "  col.append(val)\n",
        "\n",
        "df['mol_mass'] = col\n",
        "#df.loc[i,'mol_mass']=df.loc[i,'Percentage Return']"
      ],
      "metadata": {
        "id": "HiCuhzHUxLk1"
      },
      "execution_count": null,
      "outputs": []
    },
    {
      "cell_type": "code",
      "source": [
        "df =df.drop('compound',axis=1)\n",
        "df=df.drop(['Wyckoff_letters','Wyckoff_site_symmetries'], axis=1)"
      ],
      "metadata": {
        "id": "kt2obj9E3l2h"
      },
      "execution_count": null,
      "outputs": []
    },
    {
      "cell_type": "code",
      "source": [
        "df.info()"
      ],
      "metadata": {
        "colab": {
          "base_uri": "https://localhost:8080/"
        },
        "id": "V0iPQ2fr4DAR",
        "outputId": "748ac7f9-2272-41b3-97f4-6dc0258b8108"
      },
      "execution_count": null,
      "outputs": [
        {
          "output_type": "stream",
          "name": "stdout",
          "text": [
            "<class 'pandas.core.frame.DataFrame'>\n",
            "RangeIndex: 4273 entries, 0 to 4272\n",
            "Data columns (total 26 columns):\n",
            " #   Column                         Non-Null Count  Dtype  \n",
            "---  ------                         --------------  -----  \n",
            " 0   spacegroup_relax               4273 non-null   int64  \n",
            " 1   Egap                           4273 non-null   float64\n",
            " 2   Egap_type                      4273 non-null   object \n",
            " 3   spinD                          4273 non-null   object \n",
            " 4   spin_atom                      4273 non-null   float64\n",
            " 5   ael_debye_temperature          4273 non-null   float64\n",
            " 6   agl_heat_capacity_Cp_300K      4273 non-null   float64\n",
            " 7   agl_thermal_conductivity_300K  4273 non-null   float64\n",
            " 8   agl_thermal_expansion_300K     4273 non-null   float64\n",
            " 9   enthalpy_atom                  4273 non-null   float64\n",
            " 10  Bravais_lattice_lattice_type   4273 non-null   object \n",
            " 11  positions_fractional           4273 non-null   object \n",
            " 12  geometry                       4273 non-null   object \n",
            " 13  density                        4273 non-null   float64\n",
            " 14  Wyckoff_multiplicities         4273 non-null   object \n",
            " 15  stoichiometry                  4273 non-null   object \n",
            " 16  valence_cell_iupac             4273 non-null   int64  \n",
            " 17  kpoints_static                 4273 non-null   object \n",
            " 18  dft_type                       4273 non-null   object \n",
            " 19  energy_cutoff                  4273 non-null   float64\n",
            " 20  ldau_j                         4273 non-null   object \n",
            " 21  ldau_l                         4273 non-null   object \n",
            " 22  ldau_type                      4273 non-null   int64  \n",
            " 23  ldau_u                         4273 non-null   object \n",
            " 24  species_pp_ZVAL                4273 non-null   object \n",
            " 25  mol_mass                       4273 non-null   int64  \n",
            "dtypes: float64(9), int64(4), object(13)\n",
            "memory usage: 868.1+ KB\n"
          ]
        }
      ]
    },
    {
      "cell_type": "code",
      "source": [
        "df.Egap_type.value_counts()"
      ],
      "metadata": {
        "colab": {
          "base_uri": "https://localhost:8080/"
        },
        "id": "njDqEkX-46DL",
        "outputId": "247da6f1-b289-4050-eb99-5c33eb948b80"
      },
      "execution_count": null,
      "outputs": [
        {
          "output_type": "execute_result",
          "data": {
            "text/plain": [
              "metal                                3347\n",
              "insulator-indirect                    569\n",
              "insulator-direct                      246\n",
              "insulator-indirect_spin-polarized      45\n",
              "half-metal                             42\n",
              "insulator-direct_spin-polarized        24\n",
              "Name: Egap_type, dtype: int64"
            ]
          },
          "metadata": {},
          "execution_count": 16
        }
      ]
    },
    {
      "cell_type": "code",
      "source": [
        "from sklearn import preprocessing\n",
        "exp_df = df\n",
        "le = preprocessing.LabelEncoder()\n",
        "exp_df['Egap_type']=le.fit_transform(exp_df['Egap_type'])\n",
        "exp_df.Egap_type.value_counts()"
      ],
      "metadata": {
        "colab": {
          "base_uri": "https://localhost:8080/"
        },
        "id": "3YSe-hGr7sWe",
        "outputId": "339f195f-caca-4b71-f66a-8a6dbb4d5ee7"
      },
      "execution_count": null,
      "outputs": [
        {
          "output_type": "execute_result",
          "data": {
            "text/plain": [
              "5    3347\n",
              "3     569\n",
              "1     246\n",
              "4      45\n",
              "0      42\n",
              "2      24\n",
              "Name: Egap_type, dtype: int64"
            ]
          },
          "metadata": {},
          "execution_count": 17
        }
      ]
    },
    {
      "cell_type": "code",
      "source": [
        "df.Bravais_lattice_lattice_type.value_counts()"
      ],
      "metadata": {
        "colab": {
          "base_uri": "https://localhost:8080/"
        },
        "id": "ktj9uLBa5J3S",
        "outputId": "a54a6e66-5b9b-44a9-e540-f1064c4cddc4"
      },
      "execution_count": null,
      "outputs": [
        {
          "output_type": "execute_result",
          "data": {
            "text/plain": [
              "FCC     937\n",
              "HEX     843\n",
              "CUB     775\n",
              "BCT     481\n",
              "ORC     446\n",
              "TET     301\n",
              "ORCC    261\n",
              "BCC     160\n",
              "ORCI     29\n",
              "MCLC     18\n",
              "MCL      15\n",
              "ORCF      4\n",
              "TRI       2\n",
              "RHL       1\n",
              "Name: Bravais_lattice_lattice_type, dtype: int64"
            ]
          },
          "metadata": {},
          "execution_count": 18
        }
      ]
    },
    {
      "cell_type": "code",
      "source": [
        "exp_df['Bravais_lattice_lattice_type']=le.fit_transform(exp_df['Bravais_lattice_lattice_type'])\n",
        "exp_df.Bravais_lattice_lattice_type.value_counts()"
      ],
      "metadata": {
        "colab": {
          "base_uri": "https://localhost:8080/"
        },
        "id": "6ltNJI5R8X1j",
        "outputId": "9482e5e1-3c74-4983-b7f4-84ea72b08b0c"
      },
      "execution_count": null,
      "outputs": [
        {
          "output_type": "execute_result",
          "data": {
            "text/plain": [
              "3     937\n",
              "4     843\n",
              "2     775\n",
              "1     481\n",
              "7     446\n",
              "12    301\n",
              "8     261\n",
              "0     160\n",
              "10     29\n",
              "6      18\n",
              "5      15\n",
              "9       4\n",
              "13      2\n",
              "11      1\n",
              "Name: Bravais_lattice_lattice_type, dtype: int64"
            ]
          },
          "metadata": {},
          "execution_count": 19
        }
      ]
    },
    {
      "cell_type": "code",
      "source": [
        "df.dft_type.value_counts()"
      ],
      "metadata": {
        "colab": {
          "base_uri": "https://localhost:8080/"
        },
        "id": "T1QjYV455Sj5",
        "outputId": "a00d9bdd-37f8-40d0-8b4a-1b1cdaa785fe"
      },
      "execution_count": null,
      "outputs": [
        {
          "output_type": "execute_result",
          "data": {
            "text/plain": [
              "['PAW_PBE']    4271\n",
              "['PAW_GGA']       2\n",
              "Name: dft_type, dtype: int64"
            ]
          },
          "metadata": {},
          "execution_count": 20
        }
      ]
    },
    {
      "cell_type": "code",
      "source": [
        "exp_df['dft_type']=le.fit_transform(exp_df['dft_type'])\n",
        "exp_df.dft_type.value_counts()"
      ],
      "metadata": {
        "colab": {
          "base_uri": "https://localhost:8080/"
        },
        "id": "BB-Bnmym9CKq",
        "outputId": "45d348d1-b66e-4086-c292-f392f966bad6"
      },
      "execution_count": null,
      "outputs": [
        {
          "output_type": "execute_result",
          "data": {
            "text/plain": [
              "1    4271\n",
              "0       2\n",
              "Name: dft_type, dtype: int64"
            ]
          },
          "metadata": {},
          "execution_count": 21
        }
      ]
    },
    {
      "cell_type": "code",
      "source": [
        "import ast\n",
        "def convert(ini_list):\n",
        "  res = json.loads(ini_list)\n",
        "  return res "
      ],
      "metadata": {
        "id": "q4w0Dn6oI7ra"
      },
      "execution_count": null,
      "outputs": []
    },
    {
      "cell_type": "code",
      "source": [
        "exp_df.info()"
      ],
      "metadata": {
        "id": "LfTATWCOO4i2",
        "colab": {
          "base_uri": "https://localhost:8080/"
        },
        "outputId": "6c3dfa15-1bab-4a58-a10f-3641dcb8d78a"
      },
      "execution_count": null,
      "outputs": [
        {
          "output_type": "stream",
          "name": "stdout",
          "text": [
            "<class 'pandas.core.frame.DataFrame'>\n",
            "RangeIndex: 4273 entries, 0 to 4272\n",
            "Data columns (total 26 columns):\n",
            " #   Column                         Non-Null Count  Dtype  \n",
            "---  ------                         --------------  -----  \n",
            " 0   spacegroup_relax               4273 non-null   int64  \n",
            " 1   Egap                           4273 non-null   float64\n",
            " 2   Egap_type                      4273 non-null   int64  \n",
            " 3   spinD                          4273 non-null   object \n",
            " 4   spin_atom                      4273 non-null   float64\n",
            " 5   ael_debye_temperature          4273 non-null   float64\n",
            " 6   agl_heat_capacity_Cp_300K      4273 non-null   float64\n",
            " 7   agl_thermal_conductivity_300K  4273 non-null   float64\n",
            " 8   agl_thermal_expansion_300K     4273 non-null   float64\n",
            " 9   enthalpy_atom                  4273 non-null   float64\n",
            " 10  Bravais_lattice_lattice_type   4273 non-null   int64  \n",
            " 11  positions_fractional           4273 non-null   object \n",
            " 12  geometry                       4273 non-null   object \n",
            " 13  density                        4273 non-null   float64\n",
            " 14  Wyckoff_multiplicities         4273 non-null   object \n",
            " 15  stoichiometry                  4273 non-null   object \n",
            " 16  valence_cell_iupac             4273 non-null   int64  \n",
            " 17  kpoints_static                 4273 non-null   object \n",
            " 18  dft_type                       4273 non-null   int64  \n",
            " 19  energy_cutoff                  4273 non-null   float64\n",
            " 20  ldau_j                         4273 non-null   object \n",
            " 21  ldau_l                         4273 non-null   object \n",
            " 22  ldau_type                      4273 non-null   int64  \n",
            " 23  ldau_u                         4273 non-null   object \n",
            " 24  species_pp_ZVAL                4273 non-null   object \n",
            " 25  mol_mass                       4273 non-null   int64  \n",
            "dtypes: float64(9), int64(7), object(10)\n",
            "memory usage: 868.1+ KB\n"
          ]
        }
      ]
    },
    {
      "cell_type": "code",
      "source": [
        "lol=exp_df.columns.tolist()\n",
        "for l in lol:\n",
        "  if exp_df[l].dtype=='O':\n",
        "    for i in range(0,4273):\n",
        "      exp_df.at[i,l]=convert(exp_df.loc[i][l])\n",
        "  if exp_df[l].dtype!='O':\n",
        "      exp_df.at[l]=exp_df[l].astype(float)\n",
        "\n"
      ],
      "metadata": {
        "id": "78Gs_RhtPdr-"
      },
      "execution_count": null,
      "outputs": []
    },
    {
      "cell_type": "code",
      "source": [
        "exp_df['Wyckoff_multiplicities']=exp_df['Wyckoff_multiplicities'].dropna()"
      ],
      "metadata": {
        "id": "5PRLA9s0w2RU"
      },
      "execution_count": null,
      "outputs": []
    },
    {
      "cell_type": "code",
      "source": [
        "exp_df.info()"
      ],
      "metadata": {
        "colab": {
          "base_uri": "https://localhost:8080/"
        },
        "id": "LNUgFRiymX_G",
        "outputId": "a5d63f27-ebad-40a5-8039-b8a691d0d367"
      },
      "execution_count": null,
      "outputs": [
        {
          "output_type": "stream",
          "name": "stdout",
          "text": [
            "<class 'pandas.core.frame.DataFrame'>\n",
            "Index: 4289 entries, 0 to mol_mass\n",
            "Data columns (total 26 columns):\n",
            " #   Column                         Non-Null Count  Dtype  \n",
            "---  ------                         --------------  -----  \n",
            " 0   spacegroup_relax               4273 non-null   float64\n",
            " 1   Egap                           4273 non-null   float64\n",
            " 2   Egap_type                      4273 non-null   float64\n",
            " 3   spinD                          4273 non-null   object \n",
            " 4   spin_atom                      4273 non-null   float64\n",
            " 5   ael_debye_temperature          4273 non-null   float64\n",
            " 6   agl_heat_capacity_Cp_300K      4273 non-null   float64\n",
            " 7   agl_thermal_conductivity_300K  4273 non-null   float64\n",
            " 8   agl_thermal_expansion_300K     4273 non-null   float64\n",
            " 9   enthalpy_atom                  4273 non-null   float64\n",
            " 10  Bravais_lattice_lattice_type   4273 non-null   float64\n",
            " 11  positions_fractional           4273 non-null   object \n",
            " 12  geometry                       4273 non-null   object \n",
            " 13  density                        4273 non-null   float64\n",
            " 14  Wyckoff_multiplicities         4273 non-null   object \n",
            " 15  stoichiometry                  4273 non-null   object \n",
            " 16  valence_cell_iupac             4273 non-null   float64\n",
            " 17  kpoints_static                 4273 non-null   object \n",
            " 18  dft_type                       4273 non-null   float64\n",
            " 19  energy_cutoff                  4273 non-null   float64\n",
            " 20  ldau_j                         4273 non-null   object \n",
            " 21  ldau_l                         4273 non-null   object \n",
            " 22  ldau_type                      4273 non-null   float64\n",
            " 23  ldau_u                         4273 non-null   object \n",
            " 24  species_pp_ZVAL                4273 non-null   object \n",
            " 25  mol_mass                       4273 non-null   float64\n",
            "dtypes: float64(16), object(10)\n",
            "memory usage: 1.0+ MB\n"
          ]
        }
      ]
    },
    {
      "cell_type": "code",
      "source": [
        "exp_df = exp_df.dropna()\n",
        "exp_df"
      ],
      "metadata": {
        "colab": {
          "base_uri": "https://localhost:8080/",
          "height": 1000
        },
        "id": "1mWALHwelTMV",
        "outputId": "a665046f-3f00-4b81-956a-817778e8a7ad"
      },
      "execution_count": null,
      "outputs": [
        {
          "output_type": "execute_result",
          "data": {
            "text/plain": [
              "      spacegroup_relax    Egap  Egap_type  \\\n",
              "0                225.0  0.0000        5.0   \n",
              "1                223.0  0.0000        5.0   \n",
              "2                225.0  0.0000        5.0   \n",
              "3                 58.0  0.0000        5.0   \n",
              "4                216.0  0.0000        5.0   \n",
              "...                ...     ...        ...   \n",
              "4268             141.0  5.9062        1.0   \n",
              "4269             215.0  6.0660        3.0   \n",
              "4270             215.0  6.1379        3.0   \n",
              "4271             221.0  6.5707        3.0   \n",
              "4272              59.0  6.9891        3.0   \n",
              "\n",
              "                                                  spinD  spin_atom  \\\n",
              "0                                          [0, 0, 0, 0]        0.0   \n",
              "1     [0, 0, 0, 0, 0, 0, 0, 0, 0, 0, 0, 0, 0, 0, 0, ...        0.0   \n",
              "2                                          [0, 0, 0, 0]        0.0   \n",
              "3                                    [0, 0, 0, 0, 0, 0]        0.0   \n",
              "4                                    [0, 0, 0, 0, 0, 0]        0.0   \n",
              "...                                                 ...        ...   \n",
              "4268               [0, 0, 0, 0, 0, 0, 0, 0, 0, 0, 0, 0]        0.0   \n",
              "4269                     [0, 0, 0, 0, 0, 0, 0, 0, 0, 0]        0.0   \n",
              "4270                     [0, 0, 0, 0, 0, 0, 0, 0, 0, 0]        0.0   \n",
              "4271                                       [0, 0, 0, 0]        0.0   \n",
              "4272                           [0, 0, 0, 0, 0, 0, 0, 0]        0.0   \n",
              "\n",
              "      ael_debye_temperature  agl_heat_capacity_Cp_300K  \\\n",
              "0                   312.886                    11.9407   \n",
              "1                   223.659                   120.4560   \n",
              "2                   246.964                    12.0123   \n",
              "3                   447.824                    16.7608   \n",
              "4                   266.504                    18.4007   \n",
              "...                     ...                        ...   \n",
              "4268                460.651                    31.5317   \n",
              "4269                226.786                    29.0709   \n",
              "4270                152.531                    29.9682   \n",
              "4271                502.730                    10.8798   \n",
              "4272                290.295                    23.0758   \n",
              "\n",
              "      agl_thermal_conductivity_300K  agl_thermal_expansion_300K  \\\n",
              "0                          2.852050                    0.000062   \n",
              "1                          0.689631                    0.000047   \n",
              "2                          2.437470                    0.000050   \n",
              "3                          8.521990                    0.000048   \n",
              "4                          1.819900                    0.000081   \n",
              "...                             ...                         ...   \n",
              "4268                       7.165960                    0.000033   \n",
              "4269                       1.507380                    0.000042   \n",
              "4270                       0.700637                    0.000045   \n",
              "4271                       7.782310                    0.000054   \n",
              "4272                       3.446110                    0.000058   \n",
              "\n",
              "      enthalpy_atom  ...  valence_cell_iupac kpoints_static dft_type  \\\n",
              "0          -2.55733  ...                14.0   [14, 14, 14]      1.0   \n",
              "1          -4.67084  ...               186.0      [7, 7, 7]      1.0   \n",
              "2          -4.09196  ...                14.0   [14, 14, 14]      1.0   \n",
              "3          -4.34551  ...                30.0    [19, 11, 9]      1.0   \n",
              "4          -2.00450  ...                23.0   [12, 12, 12]      1.0   \n",
              "...             ...  ...                 ...            ...      ...   \n",
              "4268       -8.01555  ...                34.0   [10, 10, 10]      1.0   \n",
              "4269       -7.00661  ...                40.0   [10, 10, 10]      1.0   \n",
              "4270       -6.77169  ...                40.0   [10, 10, 10]      1.0   \n",
              "4271       -6.70745  ...                 6.0   [14, 14, 14]      1.0   \n",
              "4272       -6.58756  ...                12.0   [13, 10, 10]      1.0   \n",
              "\n",
              "      energy_cutoff       ldau_j     ldau_l  ldau_type           ldau_u  \\\n",
              "0             574.6    [0, 0, 0]  [0, 2, 2]        2.0    [0, 5.1, 7.5]   \n",
              "1             322.6  [0.6, 0, 0]  [3, 2, 2]        2.0    [8.1, 3, 3.5]   \n",
              "2             566.4    [0, 0, 0]  [2, 2, 2]        2.0  [3.9, 3.6, 2.9]   \n",
              "3             375.2       [0, 0]     [0, 2]        2.0           [0, 5]   \n",
              "4             516.0  [0, 0, 0.7]  [2, 2, 3]        2.0      [4, 5.1, 7]   \n",
              "...             ...          ...        ...        ...              ...   \n",
              "4268          560.0    [0, 0, 0]  [3, 0, 0]        2.0      [5.6, 0, 0]   \n",
              "4269          560.0    [0, 0, 0]  [0, 0, 2]        2.0      [0, 0, 7.5]   \n",
              "4270          560.0    [0, 0, 0]  [0, 2, 0]        2.0      [0, 2.1, 0]   \n",
              "4271          560.0       [0, 0]     [0, 2]        2.0         [0, 2.9]   \n",
              "4272          560.0     [0, 0.6]     [0, 3]        2.0         [0, 8.1]   \n",
              "\n",
              "      species_pp_ZVAL  mol_mass  \n",
              "0        [14, 16, 12]     118.0  \n",
              "1         [11, 14, 4]    1994.0  \n",
              "2        [13, 16, 11]     144.0  \n",
              "3              [5, 9]     186.0  \n",
              "4        [17, 16, 24]     214.0  \n",
              "...               ...       ...  \n",
              "4268        [9, 6, 5]     226.0  \n",
              "4269       [4, 5, 12]     112.0  \n",
              "4270       [4, 12, 5]     148.0  \n",
              "4271          [7, 11]      48.0  \n",
              "4272          [7, 11]     168.0  \n",
              "\n",
              "[4273 rows x 26 columns]"
            ],
            "text/html": [
              "\n",
              "  <div id=\"df-1f4f07a4-c36d-4700-bfad-87b7e8ba628a\">\n",
              "    <div class=\"colab-df-container\">\n",
              "      <div>\n",
              "<style scoped>\n",
              "    .dataframe tbody tr th:only-of-type {\n",
              "        vertical-align: middle;\n",
              "    }\n",
              "\n",
              "    .dataframe tbody tr th {\n",
              "        vertical-align: top;\n",
              "    }\n",
              "\n",
              "    .dataframe thead th {\n",
              "        text-align: right;\n",
              "    }\n",
              "</style>\n",
              "<table border=\"1\" class=\"dataframe\">\n",
              "  <thead>\n",
              "    <tr style=\"text-align: right;\">\n",
              "      <th></th>\n",
              "      <th>spacegroup_relax</th>\n",
              "      <th>Egap</th>\n",
              "      <th>Egap_type</th>\n",
              "      <th>spinD</th>\n",
              "      <th>spin_atom</th>\n",
              "      <th>ael_debye_temperature</th>\n",
              "      <th>agl_heat_capacity_Cp_300K</th>\n",
              "      <th>agl_thermal_conductivity_300K</th>\n",
              "      <th>agl_thermal_expansion_300K</th>\n",
              "      <th>enthalpy_atom</th>\n",
              "      <th>...</th>\n",
              "      <th>valence_cell_iupac</th>\n",
              "      <th>kpoints_static</th>\n",
              "      <th>dft_type</th>\n",
              "      <th>energy_cutoff</th>\n",
              "      <th>ldau_j</th>\n",
              "      <th>ldau_l</th>\n",
              "      <th>ldau_type</th>\n",
              "      <th>ldau_u</th>\n",
              "      <th>species_pp_ZVAL</th>\n",
              "      <th>mol_mass</th>\n",
              "    </tr>\n",
              "  </thead>\n",
              "  <tbody>\n",
              "    <tr>\n",
              "      <th>0</th>\n",
              "      <td>225.0</td>\n",
              "      <td>0.0000</td>\n",
              "      <td>5.0</td>\n",
              "      <td>[0, 0, 0, 0]</td>\n",
              "      <td>0.0</td>\n",
              "      <td>312.886</td>\n",
              "      <td>11.9407</td>\n",
              "      <td>2.852050</td>\n",
              "      <td>0.000062</td>\n",
              "      <td>-2.55733</td>\n",
              "      <td>...</td>\n",
              "      <td>14.0</td>\n",
              "      <td>[14, 14, 14]</td>\n",
              "      <td>1.0</td>\n",
              "      <td>574.6</td>\n",
              "      <td>[0, 0, 0]</td>\n",
              "      <td>[0, 2, 2]</td>\n",
              "      <td>2.0</td>\n",
              "      <td>[0, 5.1, 7.5]</td>\n",
              "      <td>[14, 16, 12]</td>\n",
              "      <td>118.0</td>\n",
              "    </tr>\n",
              "    <tr>\n",
              "      <th>1</th>\n",
              "      <td>223.0</td>\n",
              "      <td>0.0000</td>\n",
              "      <td>5.0</td>\n",
              "      <td>[0, 0, 0, 0, 0, 0, 0, 0, 0, 0, 0, 0, 0, 0, 0, ...</td>\n",
              "      <td>0.0</td>\n",
              "      <td>223.659</td>\n",
              "      <td>120.4560</td>\n",
              "      <td>0.689631</td>\n",
              "      <td>0.000047</td>\n",
              "      <td>-4.67084</td>\n",
              "      <td>...</td>\n",
              "      <td>186.0</td>\n",
              "      <td>[7, 7, 7]</td>\n",
              "      <td>1.0</td>\n",
              "      <td>322.6</td>\n",
              "      <td>[0.6, 0, 0]</td>\n",
              "      <td>[3, 2, 2]</td>\n",
              "      <td>2.0</td>\n",
              "      <td>[8.1, 3, 3.5]</td>\n",
              "      <td>[11, 14, 4]</td>\n",
              "      <td>1994.0</td>\n",
              "    </tr>\n",
              "    <tr>\n",
              "      <th>2</th>\n",
              "      <td>225.0</td>\n",
              "      <td>0.0000</td>\n",
              "      <td>5.0</td>\n",
              "      <td>[0, 0, 0, 0]</td>\n",
              "      <td>0.0</td>\n",
              "      <td>246.964</td>\n",
              "      <td>12.0123</td>\n",
              "      <td>2.437470</td>\n",
              "      <td>0.000050</td>\n",
              "      <td>-4.09196</td>\n",
              "      <td>...</td>\n",
              "      <td>14.0</td>\n",
              "      <td>[14, 14, 14]</td>\n",
              "      <td>1.0</td>\n",
              "      <td>566.4</td>\n",
              "      <td>[0, 0, 0]</td>\n",
              "      <td>[2, 2, 2]</td>\n",
              "      <td>2.0</td>\n",
              "      <td>[3.9, 3.6, 2.9]</td>\n",
              "      <td>[13, 16, 11]</td>\n",
              "      <td>144.0</td>\n",
              "    </tr>\n",
              "    <tr>\n",
              "      <th>3</th>\n",
              "      <td>58.0</td>\n",
              "      <td>0.0000</td>\n",
              "      <td>5.0</td>\n",
              "      <td>[0, 0, 0, 0, 0, 0]</td>\n",
              "      <td>0.0</td>\n",
              "      <td>447.824</td>\n",
              "      <td>16.7608</td>\n",
              "      <td>8.521990</td>\n",
              "      <td>0.000048</td>\n",
              "      <td>-4.34551</td>\n",
              "      <td>...</td>\n",
              "      <td>30.0</td>\n",
              "      <td>[19, 11, 9]</td>\n",
              "      <td>1.0</td>\n",
              "      <td>375.2</td>\n",
              "      <td>[0, 0]</td>\n",
              "      <td>[0, 2]</td>\n",
              "      <td>2.0</td>\n",
              "      <td>[0, 5]</td>\n",
              "      <td>[5, 9]</td>\n",
              "      <td>186.0</td>\n",
              "    </tr>\n",
              "    <tr>\n",
              "      <th>4</th>\n",
              "      <td>216.0</td>\n",
              "      <td>0.0000</td>\n",
              "      <td>5.0</td>\n",
              "      <td>[0, 0, 0, 0, 0, 0]</td>\n",
              "      <td>0.0</td>\n",
              "      <td>266.504</td>\n",
              "      <td>18.4007</td>\n",
              "      <td>1.819900</td>\n",
              "      <td>0.000081</td>\n",
              "      <td>-2.00450</td>\n",
              "      <td>...</td>\n",
              "      <td>23.0</td>\n",
              "      <td>[12, 12, 12]</td>\n",
              "      <td>1.0</td>\n",
              "      <td>516.0</td>\n",
              "      <td>[0, 0, 0.7]</td>\n",
              "      <td>[2, 2, 3]</td>\n",
              "      <td>2.0</td>\n",
              "      <td>[4, 5.1, 7]</td>\n",
              "      <td>[17, 16, 24]</td>\n",
              "      <td>214.0</td>\n",
              "    </tr>\n",
              "    <tr>\n",
              "      <th>...</th>\n",
              "      <td>...</td>\n",
              "      <td>...</td>\n",
              "      <td>...</td>\n",
              "      <td>...</td>\n",
              "      <td>...</td>\n",
              "      <td>...</td>\n",
              "      <td>...</td>\n",
              "      <td>...</td>\n",
              "      <td>...</td>\n",
              "      <td>...</td>\n",
              "      <td>...</td>\n",
              "      <td>...</td>\n",
              "      <td>...</td>\n",
              "      <td>...</td>\n",
              "      <td>...</td>\n",
              "      <td>...</td>\n",
              "      <td>...</td>\n",
              "      <td>...</td>\n",
              "      <td>...</td>\n",
              "      <td>...</td>\n",
              "      <td>...</td>\n",
              "    </tr>\n",
              "    <tr>\n",
              "      <th>4268</th>\n",
              "      <td>141.0</td>\n",
              "      <td>5.9062</td>\n",
              "      <td>1.0</td>\n",
              "      <td>[0, 0, 0, 0, 0, 0, 0, 0, 0, 0, 0, 0]</td>\n",
              "      <td>0.0</td>\n",
              "      <td>460.651</td>\n",
              "      <td>31.5317</td>\n",
              "      <td>7.165960</td>\n",
              "      <td>0.000033</td>\n",
              "      <td>-8.01555</td>\n",
              "      <td>...</td>\n",
              "      <td>34.0</td>\n",
              "      <td>[10, 10, 10]</td>\n",
              "      <td>1.0</td>\n",
              "      <td>560.0</td>\n",
              "      <td>[0, 0, 0]</td>\n",
              "      <td>[3, 0, 0]</td>\n",
              "      <td>2.0</td>\n",
              "      <td>[5.6, 0, 0]</td>\n",
              "      <td>[9, 6, 5]</td>\n",
              "      <td>226.0</td>\n",
              "    </tr>\n",
              "    <tr>\n",
              "      <th>4269</th>\n",
              "      <td>215.0</td>\n",
              "      <td>6.0660</td>\n",
              "      <td>3.0</td>\n",
              "      <td>[0, 0, 0, 0, 0, 0, 0, 0, 0, 0]</td>\n",
              "      <td>0.0</td>\n",
              "      <td>226.786</td>\n",
              "      <td>29.0709</td>\n",
              "      <td>1.507380</td>\n",
              "      <td>0.000042</td>\n",
              "      <td>-7.00661</td>\n",
              "      <td>...</td>\n",
              "      <td>40.0</td>\n",
              "      <td>[10, 10, 10]</td>\n",
              "      <td>1.0</td>\n",
              "      <td>560.0</td>\n",
              "      <td>[0, 0, 0]</td>\n",
              "      <td>[0, 0, 2]</td>\n",
              "      <td>2.0</td>\n",
              "      <td>[0, 0, 7.5]</td>\n",
              "      <td>[4, 5, 12]</td>\n",
              "      <td>112.0</td>\n",
              "    </tr>\n",
              "    <tr>\n",
              "      <th>4270</th>\n",
              "      <td>215.0</td>\n",
              "      <td>6.1379</td>\n",
              "      <td>3.0</td>\n",
              "      <td>[0, 0, 0, 0, 0, 0, 0, 0, 0, 0]</td>\n",
              "      <td>0.0</td>\n",
              "      <td>152.531</td>\n",
              "      <td>29.9682</td>\n",
              "      <td>0.700637</td>\n",
              "      <td>0.000045</td>\n",
              "      <td>-6.77169</td>\n",
              "      <td>...</td>\n",
              "      <td>40.0</td>\n",
              "      <td>[10, 10, 10]</td>\n",
              "      <td>1.0</td>\n",
              "      <td>560.0</td>\n",
              "      <td>[0, 0, 0]</td>\n",
              "      <td>[0, 2, 0]</td>\n",
              "      <td>2.0</td>\n",
              "      <td>[0, 2.1, 0]</td>\n",
              "      <td>[4, 12, 5]</td>\n",
              "      <td>148.0</td>\n",
              "    </tr>\n",
              "    <tr>\n",
              "      <th>4271</th>\n",
              "      <td>221.0</td>\n",
              "      <td>6.5707</td>\n",
              "      <td>3.0</td>\n",
              "      <td>[0, 0, 0, 0]</td>\n",
              "      <td>0.0</td>\n",
              "      <td>502.730</td>\n",
              "      <td>10.8798</td>\n",
              "      <td>7.782310</td>\n",
              "      <td>0.000054</td>\n",
              "      <td>-6.70745</td>\n",
              "      <td>...</td>\n",
              "      <td>6.0</td>\n",
              "      <td>[14, 14, 14]</td>\n",
              "      <td>1.0</td>\n",
              "      <td>560.0</td>\n",
              "      <td>[0, 0]</td>\n",
              "      <td>[0, 2]</td>\n",
              "      <td>2.0</td>\n",
              "      <td>[0, 2.9]</td>\n",
              "      <td>[7, 11]</td>\n",
              "      <td>48.0</td>\n",
              "    </tr>\n",
              "    <tr>\n",
              "      <th>4272</th>\n",
              "      <td>59.0</td>\n",
              "      <td>6.9891</td>\n",
              "      <td>3.0</td>\n",
              "      <td>[0, 0, 0, 0, 0, 0, 0, 0]</td>\n",
              "      <td>0.0</td>\n",
              "      <td>290.295</td>\n",
              "      <td>23.0758</td>\n",
              "      <td>3.446110</td>\n",
              "      <td>0.000058</td>\n",
              "      <td>-6.58756</td>\n",
              "      <td>...</td>\n",
              "      <td>12.0</td>\n",
              "      <td>[13, 10, 10]</td>\n",
              "      <td>1.0</td>\n",
              "      <td>560.0</td>\n",
              "      <td>[0, 0.6]</td>\n",
              "      <td>[0, 3]</td>\n",
              "      <td>2.0</td>\n",
              "      <td>[0, 8.1]</td>\n",
              "      <td>[7, 11]</td>\n",
              "      <td>168.0</td>\n",
              "    </tr>\n",
              "  </tbody>\n",
              "</table>\n",
              "<p>4273 rows × 26 columns</p>\n",
              "</div>\n",
              "      <button class=\"colab-df-convert\" onclick=\"convertToInteractive('df-1f4f07a4-c36d-4700-bfad-87b7e8ba628a')\"\n",
              "              title=\"Convert this dataframe to an interactive table.\"\n",
              "              style=\"display:none;\">\n",
              "        \n",
              "  <svg xmlns=\"http://www.w3.org/2000/svg\" height=\"24px\"viewBox=\"0 0 24 24\"\n",
              "       width=\"24px\">\n",
              "    <path d=\"M0 0h24v24H0V0z\" fill=\"none\"/>\n",
              "    <path d=\"M18.56 5.44l.94 2.06.94-2.06 2.06-.94-2.06-.94-.94-2.06-.94 2.06-2.06.94zm-11 1L8.5 8.5l.94-2.06 2.06-.94-2.06-.94L8.5 2.5l-.94 2.06-2.06.94zm10 10l.94 2.06.94-2.06 2.06-.94-2.06-.94-.94-2.06-.94 2.06-2.06.94z\"/><path d=\"M17.41 7.96l-1.37-1.37c-.4-.4-.92-.59-1.43-.59-.52 0-1.04.2-1.43.59L10.3 9.45l-7.72 7.72c-.78.78-.78 2.05 0 2.83L4 21.41c.39.39.9.59 1.41.59.51 0 1.02-.2 1.41-.59l7.78-7.78 2.81-2.81c.8-.78.8-2.07 0-2.86zM5.41 20L4 18.59l7.72-7.72 1.47 1.35L5.41 20z\"/>\n",
              "  </svg>\n",
              "      </button>\n",
              "      \n",
              "  <style>\n",
              "    .colab-df-container {\n",
              "      display:flex;\n",
              "      flex-wrap:wrap;\n",
              "      gap: 12px;\n",
              "    }\n",
              "\n",
              "    .colab-df-convert {\n",
              "      background-color: #E8F0FE;\n",
              "      border: none;\n",
              "      border-radius: 50%;\n",
              "      cursor: pointer;\n",
              "      display: none;\n",
              "      fill: #1967D2;\n",
              "      height: 32px;\n",
              "      padding: 0 0 0 0;\n",
              "      width: 32px;\n",
              "    }\n",
              "\n",
              "    .colab-df-convert:hover {\n",
              "      background-color: #E2EBFA;\n",
              "      box-shadow: 0px 1px 2px rgba(60, 64, 67, 0.3), 0px 1px 3px 1px rgba(60, 64, 67, 0.15);\n",
              "      fill: #174EA6;\n",
              "    }\n",
              "\n",
              "    [theme=dark] .colab-df-convert {\n",
              "      background-color: #3B4455;\n",
              "      fill: #D2E3FC;\n",
              "    }\n",
              "\n",
              "    [theme=dark] .colab-df-convert:hover {\n",
              "      background-color: #434B5C;\n",
              "      box-shadow: 0px 1px 3px 1px rgba(0, 0, 0, 0.15);\n",
              "      filter: drop-shadow(0px 1px 2px rgba(0, 0, 0, 0.3));\n",
              "      fill: #FFFFFF;\n",
              "    }\n",
              "  </style>\n",
              "\n",
              "      <script>\n",
              "        const buttonEl =\n",
              "          document.querySelector('#df-1f4f07a4-c36d-4700-bfad-87b7e8ba628a button.colab-df-convert');\n",
              "        buttonEl.style.display =\n",
              "          google.colab.kernel.accessAllowed ? 'block' : 'none';\n",
              "\n",
              "        async function convertToInteractive(key) {\n",
              "          const element = document.querySelector('#df-1f4f07a4-c36d-4700-bfad-87b7e8ba628a');\n",
              "          const dataTable =\n",
              "            await google.colab.kernel.invokeFunction('convertToInteractive',\n",
              "                                                     [key], {});\n",
              "          if (!dataTable) return;\n",
              "\n",
              "          const docLinkHtml = 'Like what you see? Visit the ' +\n",
              "            '<a target=\"_blank\" href=https://colab.research.google.com/notebooks/data_table.ipynb>data table notebook</a>'\n",
              "            + ' to learn more about interactive tables.';\n",
              "          element.innerHTML = '';\n",
              "          dataTable['output_type'] = 'display_data';\n",
              "          await google.colab.output.renderOutput(dataTable, element);\n",
              "          const docLink = document.createElement('div');\n",
              "          docLink.innerHTML = docLinkHtml;\n",
              "          element.appendChild(docLink);\n",
              "        }\n",
              "      </script>\n",
              "    </div>\n",
              "  </div>\n",
              "  "
            ]
          },
          "metadata": {},
          "execution_count": 27
        }
      ]
    },
    {
      "cell_type": "code",
      "source": [
        "exp_df['Wyckoff_multiplicities']"
      ],
      "metadata": {
        "colab": {
          "base_uri": "https://localhost:8080/"
        },
        "id": "r4w4I3O5mBgc",
        "outputId": "3eaaa0a5-9e3b-4883-9d2f-8d3d40f47410"
      },
      "execution_count": null,
      "outputs": [
        {
          "output_type": "execute_result",
          "data": {
            "text/plain": [
              "0           [[4], [8], [4]]\n",
              "1       [[6], [8], [24, 2]]\n",
              "2           [[4], [8], [4]]\n",
              "3                [[4], [2]]\n",
              "4          [[16], [4], [4]]\n",
              "               ...         \n",
              "4268       [[4], [16], [4]]\n",
              "4269     [[4], [4], [1, 1]]\n",
              "4270     [[4], [1, 1], [4]]\n",
              "4271             [[3], [1]]\n",
              "4272          [[4, 2], [2]]\n",
              "Name: Wyckoff_multiplicities, Length: 4273, dtype: object"
            ]
          },
          "metadata": {},
          "execution_count": 28
        }
      ]
    },
    {
      "cell_type": "code",
      "source": [
        "from collections import Iterable\n",
        "def chapati(lis):\n",
        "     for item in lis:\n",
        "         if isinstance(item, Iterable) and not isinstance(item, str):\n",
        "             for x in chapati(item):\n",
        "                 yield x\n",
        "         else:        \n",
        "             yield item\n"
      ],
      "metadata": {
        "id": "DdLq5fBHueXG"
      },
      "execution_count": null,
      "outputs": []
    },
    {
      "cell_type": "code",
      "source": [
        "use = list(chapati([[4], [1, 1], [4]]))\n",
        "print(use)"
      ],
      "metadata": {
        "colab": {
          "base_uri": "https://localhost:8080/"
        },
        "id": "G9fPJc02o2ZU",
        "outputId": "0de74e2b-203d-4960-b969-3f51561df431"
      },
      "execution_count": null,
      "outputs": [
        {
          "output_type": "stream",
          "name": "stdout",
          "text": [
            "[4, 1, 1, 4]\n"
          ]
        }
      ]
    },
    {
      "cell_type": "code",
      "source": [
        "for i in range(0,4273):\n",
        " exp_df.at[i,'Wyckoff_multiplicities'] = chapati(exp_df.loc[i]['Wyckoff_multiplicities'])\n",
        "  "
      ],
      "metadata": {
        "id": "9x9SU3-JoOJl"
      },
      "execution_count": null,
      "outputs": []
    },
    {
      "cell_type": "code",
      "source": [
        "for i in range(1,4273):\n",
        " exp_df.at[i,'Wyckoff_multiplicities'] = list(exp_df.loc[i]['Wyckoff_multiplicities'])"
      ],
      "metadata": {
        "id": "nXgtDTnkqYC-"
      },
      "execution_count": null,
      "outputs": []
    },
    {
      "cell_type": "code",
      "source": [
        "exp_df['Wyckoff_multiplicities']"
      ],
      "metadata": {
        "colab": {
          "base_uri": "https://localhost:8080/"
        },
        "id": "89niz63dtL2O",
        "outputId": "37c681f8-efe9-4786-ab77-ee53ef992865"
      },
      "execution_count": null,
      "outputs": [
        {
          "output_type": "execute_result",
          "data": {
            "text/plain": [
              "0       <generator object chapati at 0x7f961724a270>\n",
              "1                                      [6, 8, 24, 2]\n",
              "2                                          [4, 8, 4]\n",
              "3                                             [4, 2]\n",
              "4                                         [16, 4, 4]\n",
              "                            ...                     \n",
              "4268                                      [4, 16, 4]\n",
              "4269                                    [4, 4, 1, 1]\n",
              "4270                                    [4, 1, 1, 4]\n",
              "4271                                          [3, 1]\n",
              "4272                                       [4, 2, 2]\n",
              "Name: Wyckoff_multiplicities, Length: 4273, dtype: object"
            ]
          },
          "metadata": {},
          "execution_count": 33
        }
      ]
    },
    {
      "cell_type": "code",
      "source": [
        "for i in range(1,4273):\n",
        " exp_df.at[i,'Wyckoff_multiplicities'] = np.linalg.norm(exp_df.loc[i]['Wyckoff_multiplicities'])"
      ],
      "metadata": {
        "id": "_fSEN0wptDFP"
      },
      "execution_count": null,
      "outputs": []
    },
    {
      "cell_type": "code",
      "source": [
        "exp_df.at[0,'Wyckoff_multiplicities'] = np.linalg.norm([[4], [8], [4]])"
      ],
      "metadata": {
        "id": "I-J0qR9rsKzw"
      },
      "execution_count": null,
      "outputs": []
    },
    {
      "cell_type": "code",
      "source": [
        "for i in range(0,4273):\n",
        "  exp_df.at[i,'spinD']=np.linalg.norm(exp_df.loc[i]['spinD'])"
      ],
      "metadata": {
        "id": "mHGidZNNfjxz"
      },
      "execution_count": null,
      "outputs": []
    },
    {
      "cell_type": "code",
      "source": [
        "\n",
        "for i in range(0,4273):\n",
        "  exp_df.at[i,'positions_fractional']=np.linalg.norm(exp_df.loc[i]['positions_fractional'])\n",
        "for i in range(0,4273):\n",
        "  exp_df.at[i,'geometry']=np.linalg.norm(exp_df.loc[i]['geometry'])"
      ],
      "metadata": {
        "id": "wiUttOtS2uyX"
      },
      "execution_count": null,
      "outputs": []
    },
    {
      "cell_type": "code",
      "source": [
        "exp_df['Wyckoff_multiplicities']"
      ],
      "metadata": {
        "id": "4baJ3meRnS5e",
        "colab": {
          "base_uri": "https://localhost:8080/"
        },
        "outputId": "f9ad00cf-940b-4e90-dcd8-053d29849dcb"
      },
      "execution_count": null,
      "outputs": [
        {
          "output_type": "execute_result",
          "data": {
            "text/plain": [
              "0        9.797959\n",
              "1        26.07681\n",
              "2        9.797959\n",
              "3        4.472136\n",
              "4       16.970563\n",
              "          ...    \n",
              "4268    16.970563\n",
              "4269     5.830952\n",
              "4270     5.830952\n",
              "4271     3.162278\n",
              "4272     4.898979\n",
              "Name: Wyckoff_multiplicities, Length: 4273, dtype: object"
            ]
          },
          "metadata": {},
          "execution_count": 38
        }
      ]
    },
    {
      "cell_type": "code",
      "source": [
        "\n",
        "for i in range(0,4273):\n",
        "  exp_df.at[i,'stoichiometry']=np.linalg.norm(exp_df.loc[i]['stoichiometry'])\n",
        "for i in range(0,4273):\n",
        "  exp_df.at[i,'kpoints_static']=np.linalg.norm(exp_df.loc[i]['kpoints_static'])  \n",
        "  "
      ],
      "metadata": {
        "id": "C5Yh-eBxkFK0"
      },
      "execution_count": null,
      "outputs": []
    },
    {
      "cell_type": "code",
      "source": [
        "for i in range(0,4273):\n",
        "  exp_df.at[i,'species_pp_ZVAL']=np.linalg.norm(exp_df.loc[i]['species_pp_ZVAL'])\n",
        "\n",
        "for i in range(0,4273):\n",
        "  exp_df.at[i,'ldau_u']=np.linalg.norm(exp_df.loc[i]['ldau_u'])\n",
        "\n",
        "for i in range(0,4273):\n",
        "  exp_df.at[i,'ldau_l']=np.linalg.norm(exp_df.loc[i]['ldau_l'])"
      ],
      "metadata": {
        "id": "YjFz_6hJkVhf"
      },
      "execution_count": null,
      "outputs": []
    },
    {
      "cell_type": "markdown",
      "source": [
        "'''\n",
        "from sklearn.preprocessing import StandardScaler\n",
        "sc = StandardScaler()\n",
        "while True:\n",
        "  try: \n",
        "    X_train = sc.fit_transform(X_train)\n",
        "  except:\n",
        "    continue\n",
        "X_test = sc.transform(X_test)\n",
        "'''"
      ],
      "metadata": {
        "id": "jH6rbt-6JltV"
      }
    },
    {
      "cell_type": "code",
      "source": [
        "for i in range(0,4273):\n",
        "  exp_df.at[i,'ldau_j']=np.linalg.norm(exp_df.loc[i]['ldau_j'])"
      ],
      "metadata": {
        "id": "9K7TYhYnuigR"
      },
      "execution_count": null,
      "outputs": []
    },
    {
      "cell_type": "code",
      "source": [
        "exp_df.head()"
      ],
      "metadata": {
        "colab": {
          "base_uri": "https://localhost:8080/",
          "height": 299
        },
        "id": "rWn6yQUYttAu",
        "outputId": "4a30f826-4692-4a28-fe3a-75aa5863de35"
      },
      "execution_count": null,
      "outputs": [
        {
          "output_type": "execute_result",
          "data": {
            "text/plain": [
              "   spacegroup_relax  Egap  Egap_type spinD  spin_atom  ael_debye_temperature  \\\n",
              "0             225.0   0.0        5.0   0.0        0.0                312.886   \n",
              "1             223.0   0.0        5.0   0.0        0.0                223.659   \n",
              "2             225.0   0.0        5.0   0.0        0.0                246.964   \n",
              "3              58.0   0.0        5.0   0.0        0.0                447.824   \n",
              "4             216.0   0.0        5.0   0.0        0.0                266.504   \n",
              "\n",
              "   agl_heat_capacity_Cp_300K  agl_thermal_conductivity_300K  \\\n",
              "0                    11.9407                       2.852050   \n",
              "1                   120.4560                       0.689631   \n",
              "2                    12.0123                       2.437470   \n",
              "3                    16.7608                       8.521990   \n",
              "4                    18.4007                       1.819900   \n",
              "\n",
              "   agl_thermal_expansion_300K  enthalpy_atom  ...  valence_cell_iupac  \\\n",
              "0                    0.000062       -2.55733  ...                14.0   \n",
              "1                    0.000047       -4.67084  ...               186.0   \n",
              "2                    0.000050       -4.09196  ...                14.0   \n",
              "3                    0.000048       -4.34551  ...                30.0   \n",
              "4                    0.000081       -2.00450  ...                23.0   \n",
              "\n",
              "  kpoints_static dft_type  energy_cutoff ldau_j    ldau_l  ldau_type  \\\n",
              "0      24.248711      1.0          574.6    0.0  2.828427        2.0   \n",
              "1      12.124356      1.0          322.6    0.6  4.123106        2.0   \n",
              "2      24.248711      1.0          566.4    0.0  3.464102        2.0   \n",
              "3      23.727621      1.0          375.2    0.0       2.0        2.0   \n",
              "4       20.78461      1.0          516.0    0.7  4.123106        2.0   \n",
              "\n",
              "     ldau_u  species_pp_ZVAL  mol_mass  \n",
              "0   9.06973        24.413111     118.0  \n",
              "1  9.319871        18.248288    1994.0  \n",
              "2   6.04814        23.366643     144.0  \n",
              "3       5.0         10.29563     186.0  \n",
              "4  9.539916        33.481338     214.0  \n",
              "\n",
              "[5 rows x 26 columns]"
            ],
            "text/html": [
              "\n",
              "  <div id=\"df-329ffee9-a1ac-4f75-a21a-9a7fb41d7a37\">\n",
              "    <div class=\"colab-df-container\">\n",
              "      <div>\n",
              "<style scoped>\n",
              "    .dataframe tbody tr th:only-of-type {\n",
              "        vertical-align: middle;\n",
              "    }\n",
              "\n",
              "    .dataframe tbody tr th {\n",
              "        vertical-align: top;\n",
              "    }\n",
              "\n",
              "    .dataframe thead th {\n",
              "        text-align: right;\n",
              "    }\n",
              "</style>\n",
              "<table border=\"1\" class=\"dataframe\">\n",
              "  <thead>\n",
              "    <tr style=\"text-align: right;\">\n",
              "      <th></th>\n",
              "      <th>spacegroup_relax</th>\n",
              "      <th>Egap</th>\n",
              "      <th>Egap_type</th>\n",
              "      <th>spinD</th>\n",
              "      <th>spin_atom</th>\n",
              "      <th>ael_debye_temperature</th>\n",
              "      <th>agl_heat_capacity_Cp_300K</th>\n",
              "      <th>agl_thermal_conductivity_300K</th>\n",
              "      <th>agl_thermal_expansion_300K</th>\n",
              "      <th>enthalpy_atom</th>\n",
              "      <th>...</th>\n",
              "      <th>valence_cell_iupac</th>\n",
              "      <th>kpoints_static</th>\n",
              "      <th>dft_type</th>\n",
              "      <th>energy_cutoff</th>\n",
              "      <th>ldau_j</th>\n",
              "      <th>ldau_l</th>\n",
              "      <th>ldau_type</th>\n",
              "      <th>ldau_u</th>\n",
              "      <th>species_pp_ZVAL</th>\n",
              "      <th>mol_mass</th>\n",
              "    </tr>\n",
              "  </thead>\n",
              "  <tbody>\n",
              "    <tr>\n",
              "      <th>0</th>\n",
              "      <td>225.0</td>\n",
              "      <td>0.0</td>\n",
              "      <td>5.0</td>\n",
              "      <td>0.0</td>\n",
              "      <td>0.0</td>\n",
              "      <td>312.886</td>\n",
              "      <td>11.9407</td>\n",
              "      <td>2.852050</td>\n",
              "      <td>0.000062</td>\n",
              "      <td>-2.55733</td>\n",
              "      <td>...</td>\n",
              "      <td>14.0</td>\n",
              "      <td>24.248711</td>\n",
              "      <td>1.0</td>\n",
              "      <td>574.6</td>\n",
              "      <td>0.0</td>\n",
              "      <td>2.828427</td>\n",
              "      <td>2.0</td>\n",
              "      <td>9.06973</td>\n",
              "      <td>24.413111</td>\n",
              "      <td>118.0</td>\n",
              "    </tr>\n",
              "    <tr>\n",
              "      <th>1</th>\n",
              "      <td>223.0</td>\n",
              "      <td>0.0</td>\n",
              "      <td>5.0</td>\n",
              "      <td>0.0</td>\n",
              "      <td>0.0</td>\n",
              "      <td>223.659</td>\n",
              "      <td>120.4560</td>\n",
              "      <td>0.689631</td>\n",
              "      <td>0.000047</td>\n",
              "      <td>-4.67084</td>\n",
              "      <td>...</td>\n",
              "      <td>186.0</td>\n",
              "      <td>12.124356</td>\n",
              "      <td>1.0</td>\n",
              "      <td>322.6</td>\n",
              "      <td>0.6</td>\n",
              "      <td>4.123106</td>\n",
              "      <td>2.0</td>\n",
              "      <td>9.319871</td>\n",
              "      <td>18.248288</td>\n",
              "      <td>1994.0</td>\n",
              "    </tr>\n",
              "    <tr>\n",
              "      <th>2</th>\n",
              "      <td>225.0</td>\n",
              "      <td>0.0</td>\n",
              "      <td>5.0</td>\n",
              "      <td>0.0</td>\n",
              "      <td>0.0</td>\n",
              "      <td>246.964</td>\n",
              "      <td>12.0123</td>\n",
              "      <td>2.437470</td>\n",
              "      <td>0.000050</td>\n",
              "      <td>-4.09196</td>\n",
              "      <td>...</td>\n",
              "      <td>14.0</td>\n",
              "      <td>24.248711</td>\n",
              "      <td>1.0</td>\n",
              "      <td>566.4</td>\n",
              "      <td>0.0</td>\n",
              "      <td>3.464102</td>\n",
              "      <td>2.0</td>\n",
              "      <td>6.04814</td>\n",
              "      <td>23.366643</td>\n",
              "      <td>144.0</td>\n",
              "    </tr>\n",
              "    <tr>\n",
              "      <th>3</th>\n",
              "      <td>58.0</td>\n",
              "      <td>0.0</td>\n",
              "      <td>5.0</td>\n",
              "      <td>0.0</td>\n",
              "      <td>0.0</td>\n",
              "      <td>447.824</td>\n",
              "      <td>16.7608</td>\n",
              "      <td>8.521990</td>\n",
              "      <td>0.000048</td>\n",
              "      <td>-4.34551</td>\n",
              "      <td>...</td>\n",
              "      <td>30.0</td>\n",
              "      <td>23.727621</td>\n",
              "      <td>1.0</td>\n",
              "      <td>375.2</td>\n",
              "      <td>0.0</td>\n",
              "      <td>2.0</td>\n",
              "      <td>2.0</td>\n",
              "      <td>5.0</td>\n",
              "      <td>10.29563</td>\n",
              "      <td>186.0</td>\n",
              "    </tr>\n",
              "    <tr>\n",
              "      <th>4</th>\n",
              "      <td>216.0</td>\n",
              "      <td>0.0</td>\n",
              "      <td>5.0</td>\n",
              "      <td>0.0</td>\n",
              "      <td>0.0</td>\n",
              "      <td>266.504</td>\n",
              "      <td>18.4007</td>\n",
              "      <td>1.819900</td>\n",
              "      <td>0.000081</td>\n",
              "      <td>-2.00450</td>\n",
              "      <td>...</td>\n",
              "      <td>23.0</td>\n",
              "      <td>20.78461</td>\n",
              "      <td>1.0</td>\n",
              "      <td>516.0</td>\n",
              "      <td>0.7</td>\n",
              "      <td>4.123106</td>\n",
              "      <td>2.0</td>\n",
              "      <td>9.539916</td>\n",
              "      <td>33.481338</td>\n",
              "      <td>214.0</td>\n",
              "    </tr>\n",
              "  </tbody>\n",
              "</table>\n",
              "<p>5 rows × 26 columns</p>\n",
              "</div>\n",
              "      <button class=\"colab-df-convert\" onclick=\"convertToInteractive('df-329ffee9-a1ac-4f75-a21a-9a7fb41d7a37')\"\n",
              "              title=\"Convert this dataframe to an interactive table.\"\n",
              "              style=\"display:none;\">\n",
              "        \n",
              "  <svg xmlns=\"http://www.w3.org/2000/svg\" height=\"24px\"viewBox=\"0 0 24 24\"\n",
              "       width=\"24px\">\n",
              "    <path d=\"M0 0h24v24H0V0z\" fill=\"none\"/>\n",
              "    <path d=\"M18.56 5.44l.94 2.06.94-2.06 2.06-.94-2.06-.94-.94-2.06-.94 2.06-2.06.94zm-11 1L8.5 8.5l.94-2.06 2.06-.94-2.06-.94L8.5 2.5l-.94 2.06-2.06.94zm10 10l.94 2.06.94-2.06 2.06-.94-2.06-.94-.94-2.06-.94 2.06-2.06.94z\"/><path d=\"M17.41 7.96l-1.37-1.37c-.4-.4-.92-.59-1.43-.59-.52 0-1.04.2-1.43.59L10.3 9.45l-7.72 7.72c-.78.78-.78 2.05 0 2.83L4 21.41c.39.39.9.59 1.41.59.51 0 1.02-.2 1.41-.59l7.78-7.78 2.81-2.81c.8-.78.8-2.07 0-2.86zM5.41 20L4 18.59l7.72-7.72 1.47 1.35L5.41 20z\"/>\n",
              "  </svg>\n",
              "      </button>\n",
              "      \n",
              "  <style>\n",
              "    .colab-df-container {\n",
              "      display:flex;\n",
              "      flex-wrap:wrap;\n",
              "      gap: 12px;\n",
              "    }\n",
              "\n",
              "    .colab-df-convert {\n",
              "      background-color: #E8F0FE;\n",
              "      border: none;\n",
              "      border-radius: 50%;\n",
              "      cursor: pointer;\n",
              "      display: none;\n",
              "      fill: #1967D2;\n",
              "      height: 32px;\n",
              "      padding: 0 0 0 0;\n",
              "      width: 32px;\n",
              "    }\n",
              "\n",
              "    .colab-df-convert:hover {\n",
              "      background-color: #E2EBFA;\n",
              "      box-shadow: 0px 1px 2px rgba(60, 64, 67, 0.3), 0px 1px 3px 1px rgba(60, 64, 67, 0.15);\n",
              "      fill: #174EA6;\n",
              "    }\n",
              "\n",
              "    [theme=dark] .colab-df-convert {\n",
              "      background-color: #3B4455;\n",
              "      fill: #D2E3FC;\n",
              "    }\n",
              "\n",
              "    [theme=dark] .colab-df-convert:hover {\n",
              "      background-color: #434B5C;\n",
              "      box-shadow: 0px 1px 3px 1px rgba(0, 0, 0, 0.15);\n",
              "      filter: drop-shadow(0px 1px 2px rgba(0, 0, 0, 0.3));\n",
              "      fill: #FFFFFF;\n",
              "    }\n",
              "  </style>\n",
              "\n",
              "      <script>\n",
              "        const buttonEl =\n",
              "          document.querySelector('#df-329ffee9-a1ac-4f75-a21a-9a7fb41d7a37 button.colab-df-convert');\n",
              "        buttonEl.style.display =\n",
              "          google.colab.kernel.accessAllowed ? 'block' : 'none';\n",
              "\n",
              "        async function convertToInteractive(key) {\n",
              "          const element = document.querySelector('#df-329ffee9-a1ac-4f75-a21a-9a7fb41d7a37');\n",
              "          const dataTable =\n",
              "            await google.colab.kernel.invokeFunction('convertToInteractive',\n",
              "                                                     [key], {});\n",
              "          if (!dataTable) return;\n",
              "\n",
              "          const docLinkHtml = 'Like what you see? Visit the ' +\n",
              "            '<a target=\"_blank\" href=https://colab.research.google.com/notebooks/data_table.ipynb>data table notebook</a>'\n",
              "            + ' to learn more about interactive tables.';\n",
              "          element.innerHTML = '';\n",
              "          dataTable['output_type'] = 'display_data';\n",
              "          await google.colab.output.renderOutput(dataTable, element);\n",
              "          const docLink = document.createElement('div');\n",
              "          docLink.innerHTML = docLinkHtml;\n",
              "          element.appendChild(docLink);\n",
              "        }\n",
              "      </script>\n",
              "    </div>\n",
              "  </div>\n",
              "  "
            ]
          },
          "metadata": {},
          "execution_count": 42
        }
      ]
    },
    {
      "cell_type": "code",
      "source": [
        "exp_df['spinD'] = exp_df.spinD.astype(np.float64)"
      ],
      "metadata": {
        "colab": {
          "base_uri": "https://localhost:8080/"
        },
        "id": "volnXxnDv5hk",
        "outputId": "8605e5df-82d8-49b0-d5c5-836b29c98d7b"
      },
      "execution_count": null,
      "outputs": [
        {
          "output_type": "stream",
          "name": "stderr",
          "text": [
            "<ipython-input-43-9ed4409f21d3>:1: SettingWithCopyWarning: \n",
            "A value is trying to be set on a copy of a slice from a DataFrame.\n",
            "Try using .loc[row_indexer,col_indexer] = value instead\n",
            "\n",
            "See the caveats in the documentation: https://pandas.pydata.org/pandas-docs/stable/user_guide/indexing.html#returning-a-view-versus-a-copy\n",
            "  exp_df['spinD'] = exp_df.spinD.astype(np.float64)\n"
          ]
        }
      ]
    },
    {
      "cell_type": "code",
      "source": [
        "exp_df['positions_fractional'] = exp_df.positions_fractional.astype(np.float64)\n",
        "exp_df['geometry'] = exp_df.geometry.astype(np.float64)\n",
        "exp_df['Wyckoff_multiplicities'] = exp_df.Wyckoff_multiplicities.astype(np.float64)\n",
        "exp_df['stoichiometry'] = exp_df.stoichiometry.astype(np.float64)\n",
        "exp_df['kpoints_static'] = exp_df.kpoints_static.astype(np.float64)\n",
        "exp_df['ldau_j'] = exp_df.ldau_j.astype(np.float64)\n",
        "exp_df['ldau_l'] = exp_df.ldau_l.astype(np.float64)\n",
        "exp_df['ldau_u'] = exp_df.ldau_u.astype(np.float64)\n",
        "exp_df['species_pp_ZVAL'] = exp_df.species_pp_ZVAL.astype(np.float64)"
      ],
      "metadata": {
        "colab": {
          "base_uri": "https://localhost:8080/"
        },
        "id": "fTm9FtEZup9N",
        "outputId": "a6dbc34a-ae74-404c-9117-78eb3e8ec863"
      },
      "execution_count": null,
      "outputs": [
        {
          "output_type": "stream",
          "name": "stderr",
          "text": [
            "<ipython-input-44-8520356afb27>:1: SettingWithCopyWarning: \n",
            "A value is trying to be set on a copy of a slice from a DataFrame.\n",
            "Try using .loc[row_indexer,col_indexer] = value instead\n",
            "\n",
            "See the caveats in the documentation: https://pandas.pydata.org/pandas-docs/stable/user_guide/indexing.html#returning-a-view-versus-a-copy\n",
            "  exp_df['positions_fractional'] = exp_df.positions_fractional.astype(np.float64)\n",
            "<ipython-input-44-8520356afb27>:2: SettingWithCopyWarning: \n",
            "A value is trying to be set on a copy of a slice from a DataFrame.\n",
            "Try using .loc[row_indexer,col_indexer] = value instead\n",
            "\n",
            "See the caveats in the documentation: https://pandas.pydata.org/pandas-docs/stable/user_guide/indexing.html#returning-a-view-versus-a-copy\n",
            "  exp_df['geometry'] = exp_df.geometry.astype(np.float64)\n",
            "<ipython-input-44-8520356afb27>:3: SettingWithCopyWarning: \n",
            "A value is trying to be set on a copy of a slice from a DataFrame.\n",
            "Try using .loc[row_indexer,col_indexer] = value instead\n",
            "\n",
            "See the caveats in the documentation: https://pandas.pydata.org/pandas-docs/stable/user_guide/indexing.html#returning-a-view-versus-a-copy\n",
            "  exp_df['Wyckoff_multiplicities'] = exp_df.Wyckoff_multiplicities.astype(np.float64)\n",
            "<ipython-input-44-8520356afb27>:4: SettingWithCopyWarning: \n",
            "A value is trying to be set on a copy of a slice from a DataFrame.\n",
            "Try using .loc[row_indexer,col_indexer] = value instead\n",
            "\n",
            "See the caveats in the documentation: https://pandas.pydata.org/pandas-docs/stable/user_guide/indexing.html#returning-a-view-versus-a-copy\n",
            "  exp_df['stoichiometry'] = exp_df.stoichiometry.astype(np.float64)\n",
            "<ipython-input-44-8520356afb27>:5: SettingWithCopyWarning: \n",
            "A value is trying to be set on a copy of a slice from a DataFrame.\n",
            "Try using .loc[row_indexer,col_indexer] = value instead\n",
            "\n",
            "See the caveats in the documentation: https://pandas.pydata.org/pandas-docs/stable/user_guide/indexing.html#returning-a-view-versus-a-copy\n",
            "  exp_df['kpoints_static'] = exp_df.kpoints_static.astype(np.float64)\n",
            "<ipython-input-44-8520356afb27>:6: SettingWithCopyWarning: \n",
            "A value is trying to be set on a copy of a slice from a DataFrame.\n",
            "Try using .loc[row_indexer,col_indexer] = value instead\n",
            "\n",
            "See the caveats in the documentation: https://pandas.pydata.org/pandas-docs/stable/user_guide/indexing.html#returning-a-view-versus-a-copy\n",
            "  exp_df['ldau_j'] = exp_df.ldau_j.astype(np.float64)\n",
            "<ipython-input-44-8520356afb27>:7: SettingWithCopyWarning: \n",
            "A value is trying to be set on a copy of a slice from a DataFrame.\n",
            "Try using .loc[row_indexer,col_indexer] = value instead\n",
            "\n",
            "See the caveats in the documentation: https://pandas.pydata.org/pandas-docs/stable/user_guide/indexing.html#returning-a-view-versus-a-copy\n",
            "  exp_df['ldau_l'] = exp_df.ldau_l.astype(np.float64)\n",
            "<ipython-input-44-8520356afb27>:8: SettingWithCopyWarning: \n",
            "A value is trying to be set on a copy of a slice from a DataFrame.\n",
            "Try using .loc[row_indexer,col_indexer] = value instead\n",
            "\n",
            "See the caveats in the documentation: https://pandas.pydata.org/pandas-docs/stable/user_guide/indexing.html#returning-a-view-versus-a-copy\n",
            "  exp_df['ldau_u'] = exp_df.ldau_u.astype(np.float64)\n",
            "<ipython-input-44-8520356afb27>:9: SettingWithCopyWarning: \n",
            "A value is trying to be set on a copy of a slice from a DataFrame.\n",
            "Try using .loc[row_indexer,col_indexer] = value instead\n",
            "\n",
            "See the caveats in the documentation: https://pandas.pydata.org/pandas-docs/stable/user_guide/indexing.html#returning-a-view-versus-a-copy\n",
            "  exp_df['species_pp_ZVAL'] = exp_df.species_pp_ZVAL.astype(np.float64)\n"
          ]
        }
      ]
    },
    {
      "cell_type": "code",
      "source": [
        "exp_df.info()"
      ],
      "metadata": {
        "colab": {
          "base_uri": "https://localhost:8080/"
        },
        "id": "6JUzu1yqyHie",
        "outputId": "9c6b5487-d583-4697-bd86-c9ce475d2eff"
      },
      "execution_count": null,
      "outputs": [
        {
          "output_type": "stream",
          "name": "stdout",
          "text": [
            "<class 'pandas.core.frame.DataFrame'>\n",
            "Index: 4273 entries, 0 to 4272\n",
            "Data columns (total 26 columns):\n",
            " #   Column                         Non-Null Count  Dtype  \n",
            "---  ------                         --------------  -----  \n",
            " 0   spacegroup_relax               4273 non-null   float64\n",
            " 1   Egap                           4273 non-null   float64\n",
            " 2   Egap_type                      4273 non-null   float64\n",
            " 3   spinD                          4273 non-null   float64\n",
            " 4   spin_atom                      4273 non-null   float64\n",
            " 5   ael_debye_temperature          4273 non-null   float64\n",
            " 6   agl_heat_capacity_Cp_300K      4273 non-null   float64\n",
            " 7   agl_thermal_conductivity_300K  4273 non-null   float64\n",
            " 8   agl_thermal_expansion_300K     4273 non-null   float64\n",
            " 9   enthalpy_atom                  4273 non-null   float64\n",
            " 10  Bravais_lattice_lattice_type   4273 non-null   float64\n",
            " 11  positions_fractional           4273 non-null   float64\n",
            " 12  geometry                       4273 non-null   float64\n",
            " 13  density                        4273 non-null   float64\n",
            " 14  Wyckoff_multiplicities         4273 non-null   float64\n",
            " 15  stoichiometry                  4273 non-null   float64\n",
            " 16  valence_cell_iupac             4273 non-null   float64\n",
            " 17  kpoints_static                 4273 non-null   float64\n",
            " 18  dft_type                       4273 non-null   float64\n",
            " 19  energy_cutoff                  4273 non-null   float64\n",
            " 20  ldau_j                         4273 non-null   float64\n",
            " 21  ldau_l                         4273 non-null   float64\n",
            " 22  ldau_type                      4273 non-null   float64\n",
            " 23  ldau_u                         4273 non-null   float64\n",
            " 24  species_pp_ZVAL                4273 non-null   float64\n",
            " 25  mol_mass                       4273 non-null   float64\n",
            "dtypes: float64(26)\n",
            "memory usage: 1.0+ MB\n"
          ]
        }
      ]
    },
    {
      "cell_type": "code",
      "source": [
        "exp_df.head()"
      ],
      "metadata": {
        "colab": {
          "base_uri": "https://localhost:8080/",
          "height": 299
        },
        "id": "q043_dBgyLGF",
        "outputId": "41a3d81a-a969-4e1e-de44-92865a235b38"
      },
      "execution_count": null,
      "outputs": [
        {
          "output_type": "execute_result",
          "data": {
            "text/plain": [
              "   spacegroup_relax  Egap  Egap_type  spinD  spin_atom  ael_debye_temperature  \\\n",
              "0             225.0   0.0        5.0    0.0        0.0                312.886   \n",
              "1             223.0   0.0        5.0    0.0        0.0                223.659   \n",
              "2             225.0   0.0        5.0    0.0        0.0                246.964   \n",
              "3              58.0   0.0        5.0    0.0        0.0                447.824   \n",
              "4             216.0   0.0        5.0    0.0        0.0                266.504   \n",
              "\n",
              "   agl_heat_capacity_Cp_300K  agl_thermal_conductivity_300K  \\\n",
              "0                    11.9407                       2.852050   \n",
              "1                   120.4560                       0.689631   \n",
              "2                    12.0123                       2.437470   \n",
              "3                    16.7608                       8.521990   \n",
              "4                    18.4007                       1.819900   \n",
              "\n",
              "   agl_thermal_expansion_300K  enthalpy_atom  ...  valence_cell_iupac  \\\n",
              "0                    0.000062       -2.55733  ...                14.0   \n",
              "1                    0.000047       -4.67084  ...               186.0   \n",
              "2                    0.000050       -4.09196  ...                14.0   \n",
              "3                    0.000048       -4.34551  ...                30.0   \n",
              "4                    0.000081       -2.00450  ...                23.0   \n",
              "\n",
              "   kpoints_static  dft_type  energy_cutoff  ldau_j    ldau_l  ldau_type  \\\n",
              "0       24.248711       1.0          574.6     0.0  2.828427        2.0   \n",
              "1       12.124356       1.0          322.6     0.6  4.123106        2.0   \n",
              "2       24.248711       1.0          566.4     0.0  3.464102        2.0   \n",
              "3       23.727621       1.0          375.2     0.0  2.000000        2.0   \n",
              "4       20.784610       1.0          516.0     0.7  4.123106        2.0   \n",
              "\n",
              "     ldau_u  species_pp_ZVAL  mol_mass  \n",
              "0  9.069730        24.413111     118.0  \n",
              "1  9.319871        18.248288    1994.0  \n",
              "2  6.048140        23.366643     144.0  \n",
              "3  5.000000        10.295630     186.0  \n",
              "4  9.539916        33.481338     214.0  \n",
              "\n",
              "[5 rows x 26 columns]"
            ],
            "text/html": [
              "\n",
              "  <div id=\"df-f13c5f9d-bf60-4ce5-9000-34f4ef2ab51f\">\n",
              "    <div class=\"colab-df-container\">\n",
              "      <div>\n",
              "<style scoped>\n",
              "    .dataframe tbody tr th:only-of-type {\n",
              "        vertical-align: middle;\n",
              "    }\n",
              "\n",
              "    .dataframe tbody tr th {\n",
              "        vertical-align: top;\n",
              "    }\n",
              "\n",
              "    .dataframe thead th {\n",
              "        text-align: right;\n",
              "    }\n",
              "</style>\n",
              "<table border=\"1\" class=\"dataframe\">\n",
              "  <thead>\n",
              "    <tr style=\"text-align: right;\">\n",
              "      <th></th>\n",
              "      <th>spacegroup_relax</th>\n",
              "      <th>Egap</th>\n",
              "      <th>Egap_type</th>\n",
              "      <th>spinD</th>\n",
              "      <th>spin_atom</th>\n",
              "      <th>ael_debye_temperature</th>\n",
              "      <th>agl_heat_capacity_Cp_300K</th>\n",
              "      <th>agl_thermal_conductivity_300K</th>\n",
              "      <th>agl_thermal_expansion_300K</th>\n",
              "      <th>enthalpy_atom</th>\n",
              "      <th>...</th>\n",
              "      <th>valence_cell_iupac</th>\n",
              "      <th>kpoints_static</th>\n",
              "      <th>dft_type</th>\n",
              "      <th>energy_cutoff</th>\n",
              "      <th>ldau_j</th>\n",
              "      <th>ldau_l</th>\n",
              "      <th>ldau_type</th>\n",
              "      <th>ldau_u</th>\n",
              "      <th>species_pp_ZVAL</th>\n",
              "      <th>mol_mass</th>\n",
              "    </tr>\n",
              "  </thead>\n",
              "  <tbody>\n",
              "    <tr>\n",
              "      <th>0</th>\n",
              "      <td>225.0</td>\n",
              "      <td>0.0</td>\n",
              "      <td>5.0</td>\n",
              "      <td>0.0</td>\n",
              "      <td>0.0</td>\n",
              "      <td>312.886</td>\n",
              "      <td>11.9407</td>\n",
              "      <td>2.852050</td>\n",
              "      <td>0.000062</td>\n",
              "      <td>-2.55733</td>\n",
              "      <td>...</td>\n",
              "      <td>14.0</td>\n",
              "      <td>24.248711</td>\n",
              "      <td>1.0</td>\n",
              "      <td>574.6</td>\n",
              "      <td>0.0</td>\n",
              "      <td>2.828427</td>\n",
              "      <td>2.0</td>\n",
              "      <td>9.069730</td>\n",
              "      <td>24.413111</td>\n",
              "      <td>118.0</td>\n",
              "    </tr>\n",
              "    <tr>\n",
              "      <th>1</th>\n",
              "      <td>223.0</td>\n",
              "      <td>0.0</td>\n",
              "      <td>5.0</td>\n",
              "      <td>0.0</td>\n",
              "      <td>0.0</td>\n",
              "      <td>223.659</td>\n",
              "      <td>120.4560</td>\n",
              "      <td>0.689631</td>\n",
              "      <td>0.000047</td>\n",
              "      <td>-4.67084</td>\n",
              "      <td>...</td>\n",
              "      <td>186.0</td>\n",
              "      <td>12.124356</td>\n",
              "      <td>1.0</td>\n",
              "      <td>322.6</td>\n",
              "      <td>0.6</td>\n",
              "      <td>4.123106</td>\n",
              "      <td>2.0</td>\n",
              "      <td>9.319871</td>\n",
              "      <td>18.248288</td>\n",
              "      <td>1994.0</td>\n",
              "    </tr>\n",
              "    <tr>\n",
              "      <th>2</th>\n",
              "      <td>225.0</td>\n",
              "      <td>0.0</td>\n",
              "      <td>5.0</td>\n",
              "      <td>0.0</td>\n",
              "      <td>0.0</td>\n",
              "      <td>246.964</td>\n",
              "      <td>12.0123</td>\n",
              "      <td>2.437470</td>\n",
              "      <td>0.000050</td>\n",
              "      <td>-4.09196</td>\n",
              "      <td>...</td>\n",
              "      <td>14.0</td>\n",
              "      <td>24.248711</td>\n",
              "      <td>1.0</td>\n",
              "      <td>566.4</td>\n",
              "      <td>0.0</td>\n",
              "      <td>3.464102</td>\n",
              "      <td>2.0</td>\n",
              "      <td>6.048140</td>\n",
              "      <td>23.366643</td>\n",
              "      <td>144.0</td>\n",
              "    </tr>\n",
              "    <tr>\n",
              "      <th>3</th>\n",
              "      <td>58.0</td>\n",
              "      <td>0.0</td>\n",
              "      <td>5.0</td>\n",
              "      <td>0.0</td>\n",
              "      <td>0.0</td>\n",
              "      <td>447.824</td>\n",
              "      <td>16.7608</td>\n",
              "      <td>8.521990</td>\n",
              "      <td>0.000048</td>\n",
              "      <td>-4.34551</td>\n",
              "      <td>...</td>\n",
              "      <td>30.0</td>\n",
              "      <td>23.727621</td>\n",
              "      <td>1.0</td>\n",
              "      <td>375.2</td>\n",
              "      <td>0.0</td>\n",
              "      <td>2.000000</td>\n",
              "      <td>2.0</td>\n",
              "      <td>5.000000</td>\n",
              "      <td>10.295630</td>\n",
              "      <td>186.0</td>\n",
              "    </tr>\n",
              "    <tr>\n",
              "      <th>4</th>\n",
              "      <td>216.0</td>\n",
              "      <td>0.0</td>\n",
              "      <td>5.0</td>\n",
              "      <td>0.0</td>\n",
              "      <td>0.0</td>\n",
              "      <td>266.504</td>\n",
              "      <td>18.4007</td>\n",
              "      <td>1.819900</td>\n",
              "      <td>0.000081</td>\n",
              "      <td>-2.00450</td>\n",
              "      <td>...</td>\n",
              "      <td>23.0</td>\n",
              "      <td>20.784610</td>\n",
              "      <td>1.0</td>\n",
              "      <td>516.0</td>\n",
              "      <td>0.7</td>\n",
              "      <td>4.123106</td>\n",
              "      <td>2.0</td>\n",
              "      <td>9.539916</td>\n",
              "      <td>33.481338</td>\n",
              "      <td>214.0</td>\n",
              "    </tr>\n",
              "  </tbody>\n",
              "</table>\n",
              "<p>5 rows × 26 columns</p>\n",
              "</div>\n",
              "      <button class=\"colab-df-convert\" onclick=\"convertToInteractive('df-f13c5f9d-bf60-4ce5-9000-34f4ef2ab51f')\"\n",
              "              title=\"Convert this dataframe to an interactive table.\"\n",
              "              style=\"display:none;\">\n",
              "        \n",
              "  <svg xmlns=\"http://www.w3.org/2000/svg\" height=\"24px\"viewBox=\"0 0 24 24\"\n",
              "       width=\"24px\">\n",
              "    <path d=\"M0 0h24v24H0V0z\" fill=\"none\"/>\n",
              "    <path d=\"M18.56 5.44l.94 2.06.94-2.06 2.06-.94-2.06-.94-.94-2.06-.94 2.06-2.06.94zm-11 1L8.5 8.5l.94-2.06 2.06-.94-2.06-.94L8.5 2.5l-.94 2.06-2.06.94zm10 10l.94 2.06.94-2.06 2.06-.94-2.06-.94-.94-2.06-.94 2.06-2.06.94z\"/><path d=\"M17.41 7.96l-1.37-1.37c-.4-.4-.92-.59-1.43-.59-.52 0-1.04.2-1.43.59L10.3 9.45l-7.72 7.72c-.78.78-.78 2.05 0 2.83L4 21.41c.39.39.9.59 1.41.59.51 0 1.02-.2 1.41-.59l7.78-7.78 2.81-2.81c.8-.78.8-2.07 0-2.86zM5.41 20L4 18.59l7.72-7.72 1.47 1.35L5.41 20z\"/>\n",
              "  </svg>\n",
              "      </button>\n",
              "      \n",
              "  <style>\n",
              "    .colab-df-container {\n",
              "      display:flex;\n",
              "      flex-wrap:wrap;\n",
              "      gap: 12px;\n",
              "    }\n",
              "\n",
              "    .colab-df-convert {\n",
              "      background-color: #E8F0FE;\n",
              "      border: none;\n",
              "      border-radius: 50%;\n",
              "      cursor: pointer;\n",
              "      display: none;\n",
              "      fill: #1967D2;\n",
              "      height: 32px;\n",
              "      padding: 0 0 0 0;\n",
              "      width: 32px;\n",
              "    }\n",
              "\n",
              "    .colab-df-convert:hover {\n",
              "      background-color: #E2EBFA;\n",
              "      box-shadow: 0px 1px 2px rgba(60, 64, 67, 0.3), 0px 1px 3px 1px rgba(60, 64, 67, 0.15);\n",
              "      fill: #174EA6;\n",
              "    }\n",
              "\n",
              "    [theme=dark] .colab-df-convert {\n",
              "      background-color: #3B4455;\n",
              "      fill: #D2E3FC;\n",
              "    }\n",
              "\n",
              "    [theme=dark] .colab-df-convert:hover {\n",
              "      background-color: #434B5C;\n",
              "      box-shadow: 0px 1px 3px 1px rgba(0, 0, 0, 0.15);\n",
              "      filter: drop-shadow(0px 1px 2px rgba(0, 0, 0, 0.3));\n",
              "      fill: #FFFFFF;\n",
              "    }\n",
              "  </style>\n",
              "\n",
              "      <script>\n",
              "        const buttonEl =\n",
              "          document.querySelector('#df-f13c5f9d-bf60-4ce5-9000-34f4ef2ab51f button.colab-df-convert');\n",
              "        buttonEl.style.display =\n",
              "          google.colab.kernel.accessAllowed ? 'block' : 'none';\n",
              "\n",
              "        async function convertToInteractive(key) {\n",
              "          const element = document.querySelector('#df-f13c5f9d-bf60-4ce5-9000-34f4ef2ab51f');\n",
              "          const dataTable =\n",
              "            await google.colab.kernel.invokeFunction('convertToInteractive',\n",
              "                                                     [key], {});\n",
              "          if (!dataTable) return;\n",
              "\n",
              "          const docLinkHtml = 'Like what you see? Visit the ' +\n",
              "            '<a target=\"_blank\" href=https://colab.research.google.com/notebooks/data_table.ipynb>data table notebook</a>'\n",
              "            + ' to learn more about interactive tables.';\n",
              "          element.innerHTML = '';\n",
              "          dataTable['output_type'] = 'display_data';\n",
              "          await google.colab.output.renderOutput(dataTable, element);\n",
              "          const docLink = document.createElement('div');\n",
              "          docLink.innerHTML = docLinkHtml;\n",
              "          element.appendChild(docLink);\n",
              "        }\n",
              "      </script>\n",
              "    </div>\n",
              "  </div>\n",
              "  "
            ]
          },
          "metadata": {},
          "execution_count": 46
        }
      ]
    },
    {
      "cell_type": "code",
      "source": [
        "from sklearn.preprocessing import OneHotEncoder as ohe"
      ],
      "metadata": {
        "id": "KC5R40ZpU21K"
      },
      "execution_count": null,
      "outputs": []
    },
    {
      "cell_type": "code",
      "source": [
        "enc= ohe()\n",
        "\n",
        "enc_data=pd.DataFrame(enc.fit_transform(exp_df[['Egap_type','Bravais_lattice_lattice_type','dft_type']]).toarray())\n",
        "  \n",
        "new_df=exp_df.join(enc_data)\n"
      ],
      "metadata": {
        "id": "zCiRzTUZ8S4O"
      },
      "execution_count": null,
      "outputs": []
    },
    {
      "cell_type": "code",
      "source": [
        "for i in range(6):\n",
        "  new_df.rename(columns = {i:str('egap_type'+str(i))}, inplace = True)"
      ],
      "metadata": {
        "id": "y8jF7qgX_z5P"
      },
      "execution_count": null,
      "outputs": []
    },
    {
      "cell_type": "code",
      "source": [
        "for i in range(6,20):\n",
        "  new_df.rename(columns = {i:str('BLLT'+str(i))}, inplace = True)"
      ],
      "metadata": {
        "id": "VsqbnxPmAd2Q"
      },
      "execution_count": null,
      "outputs": []
    },
    {
      "cell_type": "code",
      "source": [
        "for i in range(20,22):\n",
        "  new_df.rename(columns = {i:str('dft_type'+str(i))}, inplace = True)"
      ],
      "metadata": {
        "id": "vLHg0hCkAqdl"
      },
      "execution_count": null,
      "outputs": []
    },
    {
      "cell_type": "code",
      "source": [
        "new_df= new_df.drop(['Egap_type','Bravais_lattice_lattice_type','dft_type'], axis=1)"
      ],
      "metadata": {
        "id": "OcwUAifUAzHA"
      },
      "execution_count": null,
      "outputs": []
    },
    {
      "cell_type": "code",
      "source": [
        "new_df.head()\n",
        "new_df.dropna()"
      ],
      "metadata": {
        "colab": {
          "base_uri": "https://localhost:8080/",
          "height": 488
        },
        "id": "_k_Hue15Bqic",
        "outputId": "6314856f-cbeb-43b1-b055-cf49abfecaf1"
      },
      "execution_count": null,
      "outputs": [
        {
          "output_type": "execute_result",
          "data": {
            "text/plain": [
              "      spacegroup_relax    Egap  spinD  spin_atom  ael_debye_temperature  \\\n",
              "0                225.0  0.0000    0.0        0.0                312.886   \n",
              "1                223.0  0.0000    0.0        0.0                223.659   \n",
              "2                225.0  0.0000    0.0        0.0                246.964   \n",
              "3                 58.0  0.0000    0.0        0.0                447.824   \n",
              "4                216.0  0.0000    0.0        0.0                266.504   \n",
              "...                ...     ...    ...        ...                    ...   \n",
              "4268             141.0  5.9062    0.0        0.0                460.651   \n",
              "4269             215.0  6.0660    0.0        0.0                226.786   \n",
              "4270             215.0  6.1379    0.0        0.0                152.531   \n",
              "4271             221.0  6.5707    0.0        0.0                502.730   \n",
              "4272              59.0  6.9891    0.0        0.0                290.295   \n",
              "\n",
              "      agl_heat_capacity_Cp_300K  agl_thermal_conductivity_300K  \\\n",
              "0                       11.9407                       2.852050   \n",
              "1                      120.4560                       0.689631   \n",
              "2                       12.0123                       2.437470   \n",
              "3                       16.7608                       8.521990   \n",
              "4                       18.4007                       1.819900   \n",
              "...                         ...                            ...   \n",
              "4268                    31.5317                       7.165960   \n",
              "4269                    29.0709                       1.507380   \n",
              "4270                    29.9682                       0.700637   \n",
              "4271                    10.8798                       7.782310   \n",
              "4272                    23.0758                       3.446110   \n",
              "\n",
              "      agl_thermal_expansion_300K  enthalpy_atom  positions_fractional  ...  \\\n",
              "0                       0.000062       -2.55733              1.620185  ...   \n",
              "1                       0.000047       -4.67084              5.468067  ...   \n",
              "2                       0.000050       -4.09196              1.620185  ...   \n",
              "3                       0.000048       -4.34551              1.954254  ...   \n",
              "4                       0.000081       -2.00450              1.934240  ...   \n",
              "...                          ...            ...                   ...  ...   \n",
              "4268                    0.000033       -8.01555              3.394256  ...   \n",
              "4269                    0.000042       -7.00661              2.880108  ...   \n",
              "4270                    0.000045       -6.77169              2.879840  ...   \n",
              "4271                    0.000054       -6.70745              0.866025  ...   \n",
              "4272                    0.000058       -6.58756              2.622072  ...   \n",
              "\n",
              "      BLLT12  BLLT13  BLLT14  BLLT15  BLLT16  BLLT17  BLLT18  BLLT19  \\\n",
              "0        0.0     0.0     0.0     0.0     0.0     0.0     0.0     0.0   \n",
              "1        0.0     0.0     0.0     0.0     0.0     0.0     0.0     0.0   \n",
              "2        0.0     0.0     0.0     0.0     0.0     0.0     0.0     0.0   \n",
              "3        0.0     1.0     0.0     0.0     0.0     0.0     0.0     0.0   \n",
              "4        0.0     0.0     0.0     0.0     0.0     0.0     0.0     0.0   \n",
              "...      ...     ...     ...     ...     ...     ...     ...     ...   \n",
              "4268     0.0     0.0     0.0     0.0     0.0     0.0     0.0     0.0   \n",
              "4269     0.0     0.0     0.0     0.0     0.0     0.0     0.0     0.0   \n",
              "4270     0.0     0.0     0.0     0.0     0.0     0.0     0.0     0.0   \n",
              "4271     0.0     0.0     0.0     0.0     0.0     0.0     0.0     0.0   \n",
              "4272     0.0     0.0     0.0     0.0     0.0     0.0     1.0     0.0   \n",
              "\n",
              "      dft_type20  dft_type21  \n",
              "0            0.0         1.0  \n",
              "1            0.0         1.0  \n",
              "2            0.0         1.0  \n",
              "3            0.0         1.0  \n",
              "4            0.0         1.0  \n",
              "...          ...         ...  \n",
              "4268         0.0         1.0  \n",
              "4269         0.0         1.0  \n",
              "4270         0.0         1.0  \n",
              "4271         0.0         1.0  \n",
              "4272         0.0         1.0  \n",
              "\n",
              "[4273 rows x 45 columns]"
            ],
            "text/html": [
              "\n",
              "  <div id=\"df-0811050a-429c-4f5c-99fd-ce6c723a7e82\">\n",
              "    <div class=\"colab-df-container\">\n",
              "      <div>\n",
              "<style scoped>\n",
              "    .dataframe tbody tr th:only-of-type {\n",
              "        vertical-align: middle;\n",
              "    }\n",
              "\n",
              "    .dataframe tbody tr th {\n",
              "        vertical-align: top;\n",
              "    }\n",
              "\n",
              "    .dataframe thead th {\n",
              "        text-align: right;\n",
              "    }\n",
              "</style>\n",
              "<table border=\"1\" class=\"dataframe\">\n",
              "  <thead>\n",
              "    <tr style=\"text-align: right;\">\n",
              "      <th></th>\n",
              "      <th>spacegroup_relax</th>\n",
              "      <th>Egap</th>\n",
              "      <th>spinD</th>\n",
              "      <th>spin_atom</th>\n",
              "      <th>ael_debye_temperature</th>\n",
              "      <th>agl_heat_capacity_Cp_300K</th>\n",
              "      <th>agl_thermal_conductivity_300K</th>\n",
              "      <th>agl_thermal_expansion_300K</th>\n",
              "      <th>enthalpy_atom</th>\n",
              "      <th>positions_fractional</th>\n",
              "      <th>...</th>\n",
              "      <th>BLLT12</th>\n",
              "      <th>BLLT13</th>\n",
              "      <th>BLLT14</th>\n",
              "      <th>BLLT15</th>\n",
              "      <th>BLLT16</th>\n",
              "      <th>BLLT17</th>\n",
              "      <th>BLLT18</th>\n",
              "      <th>BLLT19</th>\n",
              "      <th>dft_type20</th>\n",
              "      <th>dft_type21</th>\n",
              "    </tr>\n",
              "  </thead>\n",
              "  <tbody>\n",
              "    <tr>\n",
              "      <th>0</th>\n",
              "      <td>225.0</td>\n",
              "      <td>0.0000</td>\n",
              "      <td>0.0</td>\n",
              "      <td>0.0</td>\n",
              "      <td>312.886</td>\n",
              "      <td>11.9407</td>\n",
              "      <td>2.852050</td>\n",
              "      <td>0.000062</td>\n",
              "      <td>-2.55733</td>\n",
              "      <td>1.620185</td>\n",
              "      <td>...</td>\n",
              "      <td>0.0</td>\n",
              "      <td>0.0</td>\n",
              "      <td>0.0</td>\n",
              "      <td>0.0</td>\n",
              "      <td>0.0</td>\n",
              "      <td>0.0</td>\n",
              "      <td>0.0</td>\n",
              "      <td>0.0</td>\n",
              "      <td>0.0</td>\n",
              "      <td>1.0</td>\n",
              "    </tr>\n",
              "    <tr>\n",
              "      <th>1</th>\n",
              "      <td>223.0</td>\n",
              "      <td>0.0000</td>\n",
              "      <td>0.0</td>\n",
              "      <td>0.0</td>\n",
              "      <td>223.659</td>\n",
              "      <td>120.4560</td>\n",
              "      <td>0.689631</td>\n",
              "      <td>0.000047</td>\n",
              "      <td>-4.67084</td>\n",
              "      <td>5.468067</td>\n",
              "      <td>...</td>\n",
              "      <td>0.0</td>\n",
              "      <td>0.0</td>\n",
              "      <td>0.0</td>\n",
              "      <td>0.0</td>\n",
              "      <td>0.0</td>\n",
              "      <td>0.0</td>\n",
              "      <td>0.0</td>\n",
              "      <td>0.0</td>\n",
              "      <td>0.0</td>\n",
              "      <td>1.0</td>\n",
              "    </tr>\n",
              "    <tr>\n",
              "      <th>2</th>\n",
              "      <td>225.0</td>\n",
              "      <td>0.0000</td>\n",
              "      <td>0.0</td>\n",
              "      <td>0.0</td>\n",
              "      <td>246.964</td>\n",
              "      <td>12.0123</td>\n",
              "      <td>2.437470</td>\n",
              "      <td>0.000050</td>\n",
              "      <td>-4.09196</td>\n",
              "      <td>1.620185</td>\n",
              "      <td>...</td>\n",
              "      <td>0.0</td>\n",
              "      <td>0.0</td>\n",
              "      <td>0.0</td>\n",
              "      <td>0.0</td>\n",
              "      <td>0.0</td>\n",
              "      <td>0.0</td>\n",
              "      <td>0.0</td>\n",
              "      <td>0.0</td>\n",
              "      <td>0.0</td>\n",
              "      <td>1.0</td>\n",
              "    </tr>\n",
              "    <tr>\n",
              "      <th>3</th>\n",
              "      <td>58.0</td>\n",
              "      <td>0.0000</td>\n",
              "      <td>0.0</td>\n",
              "      <td>0.0</td>\n",
              "      <td>447.824</td>\n",
              "      <td>16.7608</td>\n",
              "      <td>8.521990</td>\n",
              "      <td>0.000048</td>\n",
              "      <td>-4.34551</td>\n",
              "      <td>1.954254</td>\n",
              "      <td>...</td>\n",
              "      <td>0.0</td>\n",
              "      <td>1.0</td>\n",
              "      <td>0.0</td>\n",
              "      <td>0.0</td>\n",
              "      <td>0.0</td>\n",
              "      <td>0.0</td>\n",
              "      <td>0.0</td>\n",
              "      <td>0.0</td>\n",
              "      <td>0.0</td>\n",
              "      <td>1.0</td>\n",
              "    </tr>\n",
              "    <tr>\n",
              "      <th>4</th>\n",
              "      <td>216.0</td>\n",
              "      <td>0.0000</td>\n",
              "      <td>0.0</td>\n",
              "      <td>0.0</td>\n",
              "      <td>266.504</td>\n",
              "      <td>18.4007</td>\n",
              "      <td>1.819900</td>\n",
              "      <td>0.000081</td>\n",
              "      <td>-2.00450</td>\n",
              "      <td>1.934240</td>\n",
              "      <td>...</td>\n",
              "      <td>0.0</td>\n",
              "      <td>0.0</td>\n",
              "      <td>0.0</td>\n",
              "      <td>0.0</td>\n",
              "      <td>0.0</td>\n",
              "      <td>0.0</td>\n",
              "      <td>0.0</td>\n",
              "      <td>0.0</td>\n",
              "      <td>0.0</td>\n",
              "      <td>1.0</td>\n",
              "    </tr>\n",
              "    <tr>\n",
              "      <th>...</th>\n",
              "      <td>...</td>\n",
              "      <td>...</td>\n",
              "      <td>...</td>\n",
              "      <td>...</td>\n",
              "      <td>...</td>\n",
              "      <td>...</td>\n",
              "      <td>...</td>\n",
              "      <td>...</td>\n",
              "      <td>...</td>\n",
              "      <td>...</td>\n",
              "      <td>...</td>\n",
              "      <td>...</td>\n",
              "      <td>...</td>\n",
              "      <td>...</td>\n",
              "      <td>...</td>\n",
              "      <td>...</td>\n",
              "      <td>...</td>\n",
              "      <td>...</td>\n",
              "      <td>...</td>\n",
              "      <td>...</td>\n",
              "      <td>...</td>\n",
              "    </tr>\n",
              "    <tr>\n",
              "      <th>4268</th>\n",
              "      <td>141.0</td>\n",
              "      <td>5.9062</td>\n",
              "      <td>0.0</td>\n",
              "      <td>0.0</td>\n",
              "      <td>460.651</td>\n",
              "      <td>31.5317</td>\n",
              "      <td>7.165960</td>\n",
              "      <td>0.000033</td>\n",
              "      <td>-8.01555</td>\n",
              "      <td>3.394256</td>\n",
              "      <td>...</td>\n",
              "      <td>0.0</td>\n",
              "      <td>0.0</td>\n",
              "      <td>0.0</td>\n",
              "      <td>0.0</td>\n",
              "      <td>0.0</td>\n",
              "      <td>0.0</td>\n",
              "      <td>0.0</td>\n",
              "      <td>0.0</td>\n",
              "      <td>0.0</td>\n",
              "      <td>1.0</td>\n",
              "    </tr>\n",
              "    <tr>\n",
              "      <th>4269</th>\n",
              "      <td>215.0</td>\n",
              "      <td>6.0660</td>\n",
              "      <td>0.0</td>\n",
              "      <td>0.0</td>\n",
              "      <td>226.786</td>\n",
              "      <td>29.0709</td>\n",
              "      <td>1.507380</td>\n",
              "      <td>0.000042</td>\n",
              "      <td>-7.00661</td>\n",
              "      <td>2.880108</td>\n",
              "      <td>...</td>\n",
              "      <td>0.0</td>\n",
              "      <td>0.0</td>\n",
              "      <td>0.0</td>\n",
              "      <td>0.0</td>\n",
              "      <td>0.0</td>\n",
              "      <td>0.0</td>\n",
              "      <td>0.0</td>\n",
              "      <td>0.0</td>\n",
              "      <td>0.0</td>\n",
              "      <td>1.0</td>\n",
              "    </tr>\n",
              "    <tr>\n",
              "      <th>4270</th>\n",
              "      <td>215.0</td>\n",
              "      <td>6.1379</td>\n",
              "      <td>0.0</td>\n",
              "      <td>0.0</td>\n",
              "      <td>152.531</td>\n",
              "      <td>29.9682</td>\n",
              "      <td>0.700637</td>\n",
              "      <td>0.000045</td>\n",
              "      <td>-6.77169</td>\n",
              "      <td>2.879840</td>\n",
              "      <td>...</td>\n",
              "      <td>0.0</td>\n",
              "      <td>0.0</td>\n",
              "      <td>0.0</td>\n",
              "      <td>0.0</td>\n",
              "      <td>0.0</td>\n",
              "      <td>0.0</td>\n",
              "      <td>0.0</td>\n",
              "      <td>0.0</td>\n",
              "      <td>0.0</td>\n",
              "      <td>1.0</td>\n",
              "    </tr>\n",
              "    <tr>\n",
              "      <th>4271</th>\n",
              "      <td>221.0</td>\n",
              "      <td>6.5707</td>\n",
              "      <td>0.0</td>\n",
              "      <td>0.0</td>\n",
              "      <td>502.730</td>\n",
              "      <td>10.8798</td>\n",
              "      <td>7.782310</td>\n",
              "      <td>0.000054</td>\n",
              "      <td>-6.70745</td>\n",
              "      <td>0.866025</td>\n",
              "      <td>...</td>\n",
              "      <td>0.0</td>\n",
              "      <td>0.0</td>\n",
              "      <td>0.0</td>\n",
              "      <td>0.0</td>\n",
              "      <td>0.0</td>\n",
              "      <td>0.0</td>\n",
              "      <td>0.0</td>\n",
              "      <td>0.0</td>\n",
              "      <td>0.0</td>\n",
              "      <td>1.0</td>\n",
              "    </tr>\n",
              "    <tr>\n",
              "      <th>4272</th>\n",
              "      <td>59.0</td>\n",
              "      <td>6.9891</td>\n",
              "      <td>0.0</td>\n",
              "      <td>0.0</td>\n",
              "      <td>290.295</td>\n",
              "      <td>23.0758</td>\n",
              "      <td>3.446110</td>\n",
              "      <td>0.000058</td>\n",
              "      <td>-6.58756</td>\n",
              "      <td>2.622072</td>\n",
              "      <td>...</td>\n",
              "      <td>0.0</td>\n",
              "      <td>0.0</td>\n",
              "      <td>0.0</td>\n",
              "      <td>0.0</td>\n",
              "      <td>0.0</td>\n",
              "      <td>0.0</td>\n",
              "      <td>1.0</td>\n",
              "      <td>0.0</td>\n",
              "      <td>0.0</td>\n",
              "      <td>1.0</td>\n",
              "    </tr>\n",
              "  </tbody>\n",
              "</table>\n",
              "<p>4273 rows × 45 columns</p>\n",
              "</div>\n",
              "      <button class=\"colab-df-convert\" onclick=\"convertToInteractive('df-0811050a-429c-4f5c-99fd-ce6c723a7e82')\"\n",
              "              title=\"Convert this dataframe to an interactive table.\"\n",
              "              style=\"display:none;\">\n",
              "        \n",
              "  <svg xmlns=\"http://www.w3.org/2000/svg\" height=\"24px\"viewBox=\"0 0 24 24\"\n",
              "       width=\"24px\">\n",
              "    <path d=\"M0 0h24v24H0V0z\" fill=\"none\"/>\n",
              "    <path d=\"M18.56 5.44l.94 2.06.94-2.06 2.06-.94-2.06-.94-.94-2.06-.94 2.06-2.06.94zm-11 1L8.5 8.5l.94-2.06 2.06-.94-2.06-.94L8.5 2.5l-.94 2.06-2.06.94zm10 10l.94 2.06.94-2.06 2.06-.94-2.06-.94-.94-2.06-.94 2.06-2.06.94z\"/><path d=\"M17.41 7.96l-1.37-1.37c-.4-.4-.92-.59-1.43-.59-.52 0-1.04.2-1.43.59L10.3 9.45l-7.72 7.72c-.78.78-.78 2.05 0 2.83L4 21.41c.39.39.9.59 1.41.59.51 0 1.02-.2 1.41-.59l7.78-7.78 2.81-2.81c.8-.78.8-2.07 0-2.86zM5.41 20L4 18.59l7.72-7.72 1.47 1.35L5.41 20z\"/>\n",
              "  </svg>\n",
              "      </button>\n",
              "      \n",
              "  <style>\n",
              "    .colab-df-container {\n",
              "      display:flex;\n",
              "      flex-wrap:wrap;\n",
              "      gap: 12px;\n",
              "    }\n",
              "\n",
              "    .colab-df-convert {\n",
              "      background-color: #E8F0FE;\n",
              "      border: none;\n",
              "      border-radius: 50%;\n",
              "      cursor: pointer;\n",
              "      display: none;\n",
              "      fill: #1967D2;\n",
              "      height: 32px;\n",
              "      padding: 0 0 0 0;\n",
              "      width: 32px;\n",
              "    }\n",
              "\n",
              "    .colab-df-convert:hover {\n",
              "      background-color: #E2EBFA;\n",
              "      box-shadow: 0px 1px 2px rgba(60, 64, 67, 0.3), 0px 1px 3px 1px rgba(60, 64, 67, 0.15);\n",
              "      fill: #174EA6;\n",
              "    }\n",
              "\n",
              "    [theme=dark] .colab-df-convert {\n",
              "      background-color: #3B4455;\n",
              "      fill: #D2E3FC;\n",
              "    }\n",
              "\n",
              "    [theme=dark] .colab-df-convert:hover {\n",
              "      background-color: #434B5C;\n",
              "      box-shadow: 0px 1px 3px 1px rgba(0, 0, 0, 0.15);\n",
              "      filter: drop-shadow(0px 1px 2px rgba(0, 0, 0, 0.3));\n",
              "      fill: #FFFFFF;\n",
              "    }\n",
              "  </style>\n",
              "\n",
              "      <script>\n",
              "        const buttonEl =\n",
              "          document.querySelector('#df-0811050a-429c-4f5c-99fd-ce6c723a7e82 button.colab-df-convert');\n",
              "        buttonEl.style.display =\n",
              "          google.colab.kernel.accessAllowed ? 'block' : 'none';\n",
              "\n",
              "        async function convertToInteractive(key) {\n",
              "          const element = document.querySelector('#df-0811050a-429c-4f5c-99fd-ce6c723a7e82');\n",
              "          const dataTable =\n",
              "            await google.colab.kernel.invokeFunction('convertToInteractive',\n",
              "                                                     [key], {});\n",
              "          if (!dataTable) return;\n",
              "\n",
              "          const docLinkHtml = 'Like what you see? Visit the ' +\n",
              "            '<a target=\"_blank\" href=https://colab.research.google.com/notebooks/data_table.ipynb>data table notebook</a>'\n",
              "            + ' to learn more about interactive tables.';\n",
              "          element.innerHTML = '';\n",
              "          dataTable['output_type'] = 'display_data';\n",
              "          await google.colab.output.renderOutput(dataTable, element);\n",
              "          const docLink = document.createElement('div');\n",
              "          docLink.innerHTML = docLinkHtml;\n",
              "          element.appendChild(docLink);\n",
              "        }\n",
              "      </script>\n",
              "    </div>\n",
              "  </div>\n",
              "  "
            ]
          },
          "metadata": {},
          "execution_count": 53
        }
      ]
    },
    {
      "cell_type": "code",
      "source": [
        "corr_matrix = new_df.corr()\n",
        "corr_matrix[\"Egap\"].sort_values(ascending=False)"
      ],
      "metadata": {
        "colab": {
          "base_uri": "https://localhost:8080/"
        },
        "id": "waqC8URePhIx",
        "outputId": "a4511d4d-fbcb-4a98-8b4c-f4e324e244d3"
      },
      "execution_count": null,
      "outputs": [
        {
          "output_type": "execute_result",
          "data": {
            "text/plain": [
              "Egap                             1.000000\n",
              "egap_type3                       0.570216\n",
              "egap_type1                       0.323994\n",
              "egap_type4                       0.176841\n",
              "energy_cutoff                    0.146502\n",
              "agl_thermal_expansion_300K       0.141212\n",
              "positions_fractional             0.133859\n",
              "egap_type2                       0.132963\n",
              "Wyckoff_multiplicities           0.128023\n",
              "spinD                            0.095609\n",
              "agl_heat_capacity_Cp_300K        0.092279\n",
              "ael_debye_temperature            0.085438\n",
              "BLLT9                            0.076278\n",
              "BLLT7                            0.056064\n",
              "BLLT11                           0.028191\n",
              "ldau_j                           0.028158\n",
              "spin_atom                        0.017215\n",
              "ldau_u                           0.015991\n",
              "BLLT14                           0.011899\n",
              "BLLT13                           0.011058\n",
              "BLLT19                           0.010353\n",
              "BLLT18                           0.008316\n",
              "dft_type21                       0.008109\n",
              "BLLT15                          -0.002527\n",
              "BLLT17                          -0.005733\n",
              "BLLT12                          -0.007031\n",
              "dft_type20                      -0.008109\n",
              "stoichiometry                   -0.014325\n",
              "valence_cell_iupac              -0.023643\n",
              "BLLT16                          -0.030974\n",
              "egap_type0                      -0.037333\n",
              "BLLT6                           -0.038061\n",
              "spacegroup_relax                -0.038711\n",
              "BLLT8                           -0.044692\n",
              "agl_thermal_conductivity_300K   -0.063982\n",
              "geometry                        -0.071523\n",
              "BLLT10                          -0.080212\n",
              "species_pp_ZVAL                 -0.088545\n",
              "mol_mass                        -0.098341\n",
              "enthalpy_atom                   -0.100848\n",
              "ldau_l                          -0.115384\n",
              "kpoints_static                  -0.149171\n",
              "density                         -0.341852\n",
              "egap_type5                      -0.712384\n",
              "ldau_type                             NaN\n",
              "Name: Egap, dtype: float64"
            ]
          },
          "metadata": {},
          "execution_count": 54
        }
      ]
    },
    {
      "cell_type": "code",
      "source": [
        "X = new_df.drop(['Egap'],axis=1)\n",
        "y = new_df['Egap'].copy()"
      ],
      "metadata": {
        "id": "3tiJEv-cBksm"
      },
      "execution_count": null,
      "outputs": []
    },
    {
      "cell_type": "code",
      "source": [
        "#.info()"
      ],
      "metadata": {
        "id": "xxUdgZY6EQwM"
      },
      "execution_count": null,
      "outputs": []
    },
    {
      "cell_type": "code",
      "source": [
        "from sklearn.preprocessing import StandardScaler\n",
        "from sklearn.preprocessing import MinMaxScaler\n",
        "\n",
        "sc = StandardScaler()\n",
        "X= sc.fit_transform(X)\n",
        "y = MinMaxScaler().fit_transform(np.array(y).reshape(-1,1))"
      ],
      "metadata": {
        "id": "noWyrVHZ2Ht8"
      },
      "execution_count": null,
      "outputs": []
    },
    {
      "cell_type": "code",
      "source": [
        "from sklearn.feature_selection import SequentialFeatureSelector\n",
        "import tensorflow as tf\n",
        "from sklearn.neural_network import MLPRegressor"
      ],
      "metadata": {
        "id": "fdh03w9N9f9g"
      },
      "execution_count": null,
      "outputs": []
    },
    {
      "cell_type": "code",
      "source": [
        "from sklearn.model_selection import train_test_split\n",
        "X_train, X_test, y_train, y_test = train_test_split(X, y, test_size = 0.25, random_state = 44)"
      ],
      "metadata": {
        "id": "69-yeBkc-kPj"
      },
      "execution_count": null,
      "outputs": []
    },
    {
      "cell_type": "code",
      "source": [
        "model = MLPRegressor(hidden_layer_sizes=(100), activation='tanh', solver='lbfgs', alpha=0.00001, batch_size='auto', learning_rate='adaptive', learning_rate_init=0.0001, power_t=0.5, max_iter=193, shuffle=True, random_state=150, tol=0.0001, verbose= True, warm_start= False, momentum=0.9, nesterovs_momentum=True, early_stopping=False, validation_fraction=0.1, beta_1=0.9997, beta_2=0.9997, epsilon=1e-08, n_iter_no_change=10, max_fun=15000)\n",
        "model.fit(X_train, y_train) "
      ],
      "metadata": {
        "colab": {
          "base_uri": "https://localhost:8080/"
        },
        "id": "Z5bk1y2aA4xr",
        "outputId": "43a210da-ecb2-41ef-fd09-ce2e54d6c30c"
      },
      "execution_count": null,
      "outputs": [
        {
          "output_type": "stream",
          "name": "stderr",
          "text": [
            "/usr/local/lib/python3.8/dist-packages/sklearn/neural_network/_multilayer_perceptron.py:1599: DataConversionWarning: A column-vector y was passed when a 1d array was expected. Please change the shape of y to (n_samples, ), for example using ravel().\n",
            "  y = column_or_1d(y, warn=True)\n",
            "/usr/local/lib/python3.8/dist-packages/sklearn/neural_network/_multilayer_perceptron.py:549: ConvergenceWarning: lbfgs failed to converge (status=1):\n",
            "STOP: TOTAL NO. of ITERATIONS REACHED LIMIT.\n",
            "\n",
            "Increase the number of iterations (max_iter) or scale the data as shown in:\n",
            "    https://scikit-learn.org/stable/modules/preprocessing.html\n",
            "  self.n_iter_ = _check_optimize_result(\"lbfgs\", opt_res, self.max_iter)\n"
          ]
        },
        {
          "output_type": "execute_result",
          "data": {
            "text/plain": [
              "MLPRegressor(activation='tanh', alpha=1e-05, beta_1=0.9997, beta_2=0.9997,\n",
              "             hidden_layer_sizes=100, learning_rate='adaptive',\n",
              "             learning_rate_init=0.0001, max_iter=193, random_state=150,\n",
              "             solver='lbfgs', verbose=True)"
            ]
          },
          "metadata": {},
          "execution_count": 60
        }
      ]
    },
    {
      "cell_type": "code",
      "source": [
        "y_pred =model.predict(X_test)"
      ],
      "metadata": {
        "id": "SaUE20ruH-Bk"
      },
      "execution_count": null,
      "outputs": []
    },
    {
      "cell_type": "code",
      "source": [
        "from sklearn.metrics import mean_absolute_error\n",
        "score = mean_absolute_error(y_test, y_pred)\n",
        "print(\"The Mean Absolute Error of our Model is {}\".format(round(score, 2)))"
      ],
      "metadata": {
        "colab": {
          "base_uri": "https://localhost:8080/"
        },
        "id": "9GupKIcTIF9d",
        "outputId": "7dc9b84e-cc5e-4b21-f941-37cda9e82d77"
      },
      "execution_count": null,
      "outputs": [
        {
          "output_type": "stream",
          "name": "stdout",
          "text": [
            "The Mean Absolute Error of our Model is 0.03\n"
          ]
        }
      ]
    },
    {
      "cell_type": "code",
      "source": [
        "score = mean_absolute_error(y_test, y_pred)\n",
        "RMS = np.sqrt(score)\n",
        "print(RMS)"
      ],
      "metadata": {
        "colab": {
          "base_uri": "https://localhost:8080/"
        },
        "id": "ipf5TurO4pqh",
        "outputId": "2eb1dce5-77f9-4998-fad7-2d171218d192"
      },
      "execution_count": null,
      "outputs": [
        {
          "output_type": "stream",
          "name": "stdout",
          "text": [
            "0.18695972595817298\n"
          ]
        }
      ]
    },
    {
      "cell_type": "code",
      "source": [
        "from sklearn.metrics import r2_score\n",
        "score = r2_score(y_test,y_pred)\n",
        "N = len(y_test) \n",
        "k =44\n",
        "print('R2score=' +str(score))"
      ],
      "metadata": {
        "colab": {
          "base_uri": "https://localhost:8080/"
        },
        "id": "vHL_0Djf5LXg",
        "outputId": "2ffad6e6-3bcd-440d-9c39-2b9645726b35"
      },
      "execution_count": null,
      "outputs": [
        {
          "output_type": "stream",
          "name": "stdout",
          "text": [
            "R2score=0.7014163817487395\n"
          ]
        }
      ]
    },
    {
      "cell_type": "code",
      "source": [
        "def plotGraph(a_test,a_pred,regressorName):\n",
        "    if max(y_test) >= max(y_pred):\n",
        "        my_range = int(max(y_test))\n",
        "    else:\n",
        "        my_range = int(max(y_pred))\n",
        "    mpl.pyplot.scatter(range(len(y_test)), y_test, color='blue')\n",
        "    mpl.pyplot.scatter(range(len(y_pred)), y_pred, color='red')\n",
        "    mpl.pyplot.title(regressorName)\n",
        "    mpl.pyplot.show()\n",
        "    return"
      ],
      "metadata": {
        "id": "XStL1Jm2Os8Z"
      },
      "execution_count": null,
      "outputs": []
    },
    {
      "cell_type": "code",
      "source": [
        "plotGraph(y_test,y_pred,'MLP_regressor')"
      ],
      "metadata": {
        "colab": {
          "base_uri": "https://localhost:8080/",
          "height": 281
        },
        "id": "3UQA9NMUO_GS",
        "outputId": "904071a8-09c2-4657-d0b3-421c4c512081"
      },
      "execution_count": null,
      "outputs": [
        {
          "output_type": "display_data",
          "data": {
            "text/plain": [
              "<Figure size 432x288 with 1 Axes>"
            ],
            "image/png": "[encoded data removed]"
          },
          "metadata": {
            "needs_background": "light"
          }
        }
      ]
    },
    {
      "cell_type": "markdown",
      "source": [
        "### Kernel Ridge Regression"
      ],
      "metadata": {
        "id": "5hGwrKNiTqDW"
      }
    },
    {
      "cell_type": "code",
      "source": [],
      "metadata": {
        "id": "N5FkO1jWaY9d"
      },
      "execution_count": null,
      "outputs": []
    },
    {
      "cell_type": "code",
      "source": [
        "X = new_df.drop(['Egap'],axis=1)\n",
        "y = new_df['Egap'].copy()"
      ],
      "metadata": {
        "id": "lZTkZ9F9ajV1"
      },
      "execution_count": null,
      "outputs": []
    },
    {
      "cell_type": "code",
      "source": [
        "from sklearn.preprocessing import StandardScaler\n",
        "from sklearn.preprocessing import MinMaxScaler\n",
        "\n",
        "sc = StandardScaler()\n",
        "X= sc.fit_transform(X)\n",
        "y = MinMaxScaler().fit_transform(np.array(y).reshape(-1,1))"
      ],
      "metadata": {
        "id": "A-zqR2MUcvyW"
      },
      "execution_count": null,
      "outputs": []
    },
    {
      "cell_type": "code",
      "source": [
        "X_train, X_test, y_train, y_test = train_test_split(X, y, test_size = 0.25, random_state = 44)"
      ],
      "metadata": {
        "id": "lBiGE1Xq9hHX"
      },
      "execution_count": null,
      "outputs": []
    },
    {
      "cell_type": "code",
      "source": [
        "from sklearn.linear_model import  Ridge"
      ],
      "metadata": {
        "id": "4NiKN0RY6bUm"
      },
      "execution_count": null,
      "outputs": []
    },
    {
      "cell_type": "code",
      "source": [
        "ridge =Ridge(alpha=10)"
      ],
      "metadata": {
        "id": "SFr-gprsUUGm"
      },
      "execution_count": null,
      "outputs": []
    },
    {
      "cell_type": "code",
      "source": [
        "model=ridge.fit(X_train,y_train)"
      ],
      "metadata": {
        "id": "LRp8VNbUUeTt"
      },
      "execution_count": null,
      "outputs": []
    },
    {
      "cell_type": "code",
      "source": [
        "model.coef_"
      ],
      "metadata": {
        "id": "tDhMA9OpVPiu",
        "colab": {
          "base_uri": "https://localhost:8080/"
        },
        "outputId": "dfd11124-d527-41df-eb5b-6edf9305b4e3"
      },
      "execution_count": null,
      "outputs": [
        {
          "output_type": "execute_result",
          "data": {
            "text/plain": [
              "array([[ 5.49426661e-03,  2.02706057e-03, -8.52973321e-03,\n",
              "        -6.90684589e-03,  3.56690029e-02, -3.87946685e-03,\n",
              "         8.05002115e-03, -2.74124929e-02,  1.08904068e-02,\n",
              "        -1.77711583e-02, -4.19467362e-03, -1.01199444e-02,\n",
              "         8.56042777e-03, -3.27721593e-02, -1.17988613e-02,\n",
              "         3.79332464e-03, -2.07881302e-03, -5.60407540e-03,\n",
              "         0.00000000e+00,  1.28923515e-02,  2.35131868e-03,\n",
              "        -1.89062551e-02, -1.05128140e-02,  1.77976638e-02,\n",
              "         1.13676633e-02,  3.16327232e-02,  1.13671774e-02,\n",
              "        -3.85084283e-02, -2.59720855e-03,  1.38883376e-02,\n",
              "        -1.30596715e-03, -1.00447837e-02, -3.48755302e-04,\n",
              "        -2.37198560e-04, -1.07340976e-03,  3.21235782e-04,\n",
              "         4.15702211e-03, -3.73812042e-03,  3.30307377e-03,\n",
              "        -5.64597787e-04, -1.00341057e-03, -9.96269813e-07,\n",
              "        -3.58435535e-04,  3.58435535e-04]])"
            ]
          },
          "metadata": {},
          "execution_count": 73
        }
      ]
    },
    {
      "cell_type": "code",
      "source": [
        "model.intercept_\n"
      ],
      "metadata": {
        "colab": {
          "base_uri": "https://localhost:8080/"
        },
        "id": "HEHqNW4vUq7H",
        "outputId": "60cceab3-9f94-4ae6-8d16-d9568ab92f79"
      },
      "execution_count": null,
      "outputs": [
        {
          "output_type": "execute_result",
          "data": {
            "text/plain": [
              "array([0.04364547])"
            ]
          },
          "metadata": {},
          "execution_count": 74
        }
      ]
    },
    {
      "cell_type": "code",
      "source": [
        "y_pred = model.predict(X_test)"
      ],
      "metadata": {
        "id": "mkJdQ4J06USR"
      },
      "execution_count": null,
      "outputs": []
    },
    {
      "cell_type": "code",
      "source": [
        "from sklearn.metrics import r2_score\n",
        "score = r2_score(y_test,y_pred)\n",
        "N = len(y_test) \n",
        "k =44\n",
        "print('R2score=' +str(score))"
      ],
      "metadata": {
        "id": "vS9BMIIyV1q9",
        "colab": {
          "base_uri": "https://localhost:8080/"
        },
        "outputId": "cead1235-5d98-424f-9208-e6583ad6e285"
      },
      "execution_count": null,
      "outputs": [
        {
          "output_type": "stream",
          "name": "stdout",
          "text": [
            "R2score=0.5598226775976815\n"
          ]
        }
      ]
    },
    {
      "cell_type": "code",
      "source": [
        "def ridge_fit (features,labels,to_pred,alpha):\n",
        "  ridge =Ridge(alpha)\n",
        "  model=ridge.fit(features,labels)\n",
        "  y_pred = model.predict(to_pred)\n",
        "  return  y_pred"
      ],
      "metadata": {
        "id": "VZ2hyAEWfvKY"
      },
      "execution_count": null,
      "outputs": []
    },
    {
      "cell_type": "code",
      "source": [
        "from sklearn.metrics import mean_absolute_error\n",
        "\n",
        "errors=[]\n",
        "alphas =[]\n",
        "i=0\n",
        "while i<11:\n",
        "  i+=0.1\n",
        "  alphas.append(i)\n",
        "  "
      ],
      "metadata": {
        "id": "3mL7MM1jXfEX"
      },
      "execution_count": null,
      "outputs": []
    },
    {
      "cell_type": "code",
      "source": [
        "for a in alphas:\n",
        "  new = ridge_fit(X_train,y_train,X_test,a)\n",
        "  errors.append(mean_absolute_error(y_test,new))"
      ],
      "metadata": {
        "id": "vJsR6m5DAqMN"
      },
      "execution_count": null,
      "outputs": []
    },
    {
      "cell_type": "code",
      "source": [
        "best = (errors.index(min(errors)))\n",
        "print(alphas[best])"
      ],
      "metadata": {
        "colab": {
          "base_uri": "https://localhost:8080/"
        },
        "id": "OW4Xjap8ksMI",
        "outputId": "4bd867bd-831c-429c-aad6-84b0a9a27660"
      },
      "execution_count": null,
      "outputs": [
        {
          "output_type": "stream",
          "name": "stdout",
          "text": [
            "11.099999999999977\n"
          ]
        }
      ]
    },
    {
      "cell_type": "code",
      "source": [
        "y_pred = ridge_fit (X_train,y_train,X_test,11.099999999999977)"
      ],
      "metadata": {
        "id": "C2yZk9rkl1K_"
      },
      "execution_count": null,
      "outputs": []
    },
    {
      "cell_type": "code",
      "source": [
        "score = r2_score(y_test,y_pred)\n",
        "N = len(y_test) \n",
        "k =44\n",
        "print('R2score =' +str(score))\n",
        "plotGraph(y_test,y_pred,'KRR')"
      ],
      "metadata": {
        "colab": {
          "base_uri": "https://localhost:8080/",
          "height": 298
        },
        "id": "VJwCDaPkmA-u",
        "outputId": "ae5fc08d-8b03-4c48-8178-c570653a445d"
      },
      "execution_count": null,
      "outputs": [
        {
          "output_type": "stream",
          "name": "stdout",
          "text": [
            "R2score =0.5597877906221579\n"
          ]
        },
        {
          "output_type": "display_data",
          "data": {
            "text/plain": [
              "<Figure size 432x288 with 1 Axes>"
            ],
            "image/png": "[encoded data removed]"
          },
          "metadata": {
            "needs_background": "light"
          }
        }
      ]
    }
  ]
}